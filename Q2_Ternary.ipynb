{
  "nbformat": 4,
  "nbformat_minor": 0,
  "metadata": {
    "colab": {
      "name": "Q2_Ternary.ipynb",
      "provenance": [],
      "collapsed_sections": []
    },
    "kernelspec": {
      "name": "python3",
      "display_name": "Python 3"
    },
    "accelerator": "GPU"
  },
  "cells": [
    {
      "cell_type": "code",
      "metadata": {
        "id": "R_2k_im8_ZW1"
      },
      "source": [
        "import pandas as pd\n",
        "import numpy as np\n",
        "import tensorflow as tf\n",
        "from tensorflow import keras\n",
        "import matplotlib.pyplot as plt\n",
        "from ternary_layers import TernaryConv2D, TernaryDense\n"
      ],
      "execution_count": 1,
      "outputs": []
    },
    {
      "cell_type": "code",
      "metadata": {
        "id": "qu8zR-if_cPh"
      },
      "source": [
        "train_pd = pd.read_csv('sign_mnist_train.csv')\n",
        "\n",
        "test_pd = pd.read_csv('sign_mnist_test.csv')"
      ],
      "execution_count": 2,
      "outputs": []
    },
    {
      "cell_type": "code",
      "metadata": {
        "id": "a6FFH8kH_rd8"
      },
      "source": [
        "x_train = train_pd.drop(['label'], axis=1).values\n",
        "y_train = train_pd['label'].values"
      ],
      "execution_count": 3,
      "outputs": []
    },
    {
      "cell_type": "code",
      "metadata": {
        "id": "xIa1Jaym_tsW"
      },
      "source": [
        "x_test = test_pd.drop(['label'], axis=1).values\n",
        "y_test = test_pd['label'].values"
      ],
      "execution_count": 4,
      "outputs": []
    },
    {
      "cell_type": "code",
      "metadata": {
        "id": "4E8S-9s4_wHB"
      },
      "source": [
        "x_train = x_train.reshape(x_train.shape[0], 28, 28, 1)\n",
        "\n",
        "x_test = x_test.reshape(x_test.shape[0], 28, 28, 1)\n",
        "\n",
        "x_train = x_train.astype('float32')\n",
        "\n",
        "x_test = x_test.astype('float32')"
      ],
      "execution_count": 5,
      "outputs": []
    },
    {
      "cell_type": "code",
      "metadata": {
        "id": "-aBuyvqt_238"
      },
      "source": [
        "# Normalize the input\n",
        "\n",
        "x_train = x_train/ 255\n",
        "\n",
        "x_test= x_test/ 255"
      ],
      "execution_count": 6,
      "outputs": []
    },
    {
      "cell_type": "code",
      "metadata": {
        "id": "zofkHYag_5Pw"
      },
      "source": [
        "#Build the model\n",
        "\n",
        "model = keras.Sequential([\n",
        "    keras.layers.Conv2D(20, kernel_size=(3,3), padding='same', activation='relu', input_shape=(28,28,1)),\n",
        "    keras.layers.MaxPooling2D(pool_size=(2,2)),\n",
        "    keras.layers.BatchNormalization(center= True,scale=False),\n",
        "    TernaryConv2D(40, kernel_size=(3,3), padding='same', activation='relu', use_bias= False),\n",
        "    keras.layers.BatchNormalization(center= True,scale=False),\n",
        "    keras.layers.MaxPooling2D(pool_size=(2,2)),\n",
        "    TernaryConv2D(40, kernel_size=(3,3), padding='same', activation='relu', use_bias=False),\n",
        "    keras.layers.MaxPooling2D(pool_size=(2,2)),\n",
        "    keras.layers.BatchNormalization(center= True,scale=False),\n",
        "    keras.layers.Flatten(),\n",
        "    TernaryDense(50, activation='relu',use_bias=False),\n",
        "    keras.layers.BatchNormalization(center= True,scale=False),\n",
        "    #keras.layers.Dropout(0.4),\n",
        "    keras.layers.Dense(25, activation='softmax')\n",
        "])"
      ],
      "execution_count": 7,
      "outputs": []
    },
    {
      "cell_type": "code",
      "metadata": {
        "id": "8SdfUV98_8i4",
        "outputId": "f0b234e5-387b-42a4-ffb9-f2abfb5deb45",
        "colab": {
          "base_uri": "https://localhost:8080/",
          "height": 1000
        }
      },
      "source": [
        "model.compile(optimizer='adam',\n",
        "              loss=tf.keras.losses.SparseCategoricalCrossentropy(from_logits=True),\n",
        "              metrics=['accuracy'])\n",
        "\n",
        "history = model.fit(x_train, y_train, epochs=30, batch_size= 256, validation_data=(x_test, y_test))"
      ],
      "execution_count": 8,
      "outputs": [
        {
          "output_type": "stream",
          "text": [
            "Epoch 1/30\n",
            "108/108 [==============================] - 1s 11ms/step - loss: 3.1108 - accuracy: 0.2249 - val_loss: 3.2140 - val_accuracy: 0.0613\n",
            "Epoch 2/30\n",
            "108/108 [==============================] - 1s 8ms/step - loss: 2.8774 - accuracy: 0.5044 - val_loss: 3.1993 - val_accuracy: 0.0803\n",
            "Epoch 3/30\n",
            "108/108 [==============================] - 1s 7ms/step - loss: 2.6789 - accuracy: 0.7069 - val_loss: 3.1333 - val_accuracy: 0.1472\n",
            "Epoch 4/30\n",
            "108/108 [==============================] - 1s 8ms/step - loss: 2.5335 - accuracy: 0.8373 - val_loss: 2.9709 - val_accuracy: 0.3680\n",
            "Epoch 5/30\n",
            "108/108 [==============================] - 1s 7ms/step - loss: 2.4567 - accuracy: 0.8916 - val_loss: 2.7513 - val_accuracy: 0.6274\n",
            "Epoch 6/30\n",
            "108/108 [==============================] - 1s 7ms/step - loss: 2.4022 - accuracy: 0.9387 - val_loss: 2.5856 - val_accuracy: 0.7869\n",
            "Epoch 7/30\n",
            "108/108 [==============================] - 1s 7ms/step - loss: 2.3663 - accuracy: 0.9626 - val_loss: 2.5085 - val_accuracy: 0.8401\n",
            "Epoch 8/30\n",
            "108/108 [==============================] - 1s 7ms/step - loss: 2.3441 - accuracy: 0.9755 - val_loss: 2.4791 - val_accuracy: 0.8650\n",
            "Epoch 9/30\n",
            "108/108 [==============================] - 1s 7ms/step - loss: 2.3258 - accuracy: 0.9855 - val_loss: 2.4712 - val_accuracy: 0.8614\n",
            "Epoch 10/30\n",
            "108/108 [==============================] - 1s 7ms/step - loss: 2.3164 - accuracy: 0.9895 - val_loss: 2.4707 - val_accuracy: 0.8641\n",
            "Epoch 11/30\n",
            "108/108 [==============================] - 1s 7ms/step - loss: 2.3092 - accuracy: 0.9925 - val_loss: 2.4533 - val_accuracy: 0.8726\n",
            "Epoch 12/30\n",
            "108/108 [==============================] - 1s 7ms/step - loss: 2.3039 - accuracy: 0.9951 - val_loss: 2.4470 - val_accuracy: 0.8780\n",
            "Epoch 13/30\n",
            "108/108 [==============================] - 1s 7ms/step - loss: 2.3013 - accuracy: 0.9953 - val_loss: 2.4599 - val_accuracy: 0.8618\n",
            "Epoch 14/30\n",
            "108/108 [==============================] - 1s 7ms/step - loss: 2.2994 - accuracy: 0.9957 - val_loss: 2.4325 - val_accuracy: 0.8871\n",
            "Epoch 15/30\n",
            "108/108 [==============================] - 1s 7ms/step - loss: 2.2974 - accuracy: 0.9957 - val_loss: 2.4293 - val_accuracy: 0.8864\n",
            "Epoch 16/30\n",
            "108/108 [==============================] - 1s 7ms/step - loss: 2.2958 - accuracy: 0.9968 - val_loss: 2.4332 - val_accuracy: 0.8880\n",
            "Epoch 17/30\n",
            "108/108 [==============================] - 1s 7ms/step - loss: 2.2948 - accuracy: 0.9965 - val_loss: 2.4113 - val_accuracy: 0.9052\n",
            "Epoch 18/30\n",
            "108/108 [==============================] - 1s 7ms/step - loss: 2.2940 - accuracy: 0.9966 - val_loss: 2.4212 - val_accuracy: 0.8971\n",
            "Epoch 19/30\n",
            "108/108 [==============================] - 1s 8ms/step - loss: 2.2936 - accuracy: 0.9968 - val_loss: 2.4202 - val_accuracy: 0.8893\n",
            "Epoch 20/30\n",
            "108/108 [==============================] - 1s 7ms/step - loss: 2.2927 - accuracy: 0.9969 - val_loss: 2.4176 - val_accuracy: 0.8932\n",
            "Epoch 21/30\n",
            "108/108 [==============================] - 1s 7ms/step - loss: 2.2925 - accuracy: 0.9968 - val_loss: 2.4067 - val_accuracy: 0.9035\n",
            "Epoch 22/30\n",
            "108/108 [==============================] - 1s 7ms/step - loss: 2.2914 - accuracy: 0.9968 - val_loss: 2.4081 - val_accuracy: 0.9038\n",
            "Epoch 23/30\n",
            "108/108 [==============================] - 1s 7ms/step - loss: 2.2915 - accuracy: 0.9968 - val_loss: 2.4331 - val_accuracy: 0.8772\n",
            "Epoch 24/30\n",
            "108/108 [==============================] - 1s 7ms/step - loss: 2.2918 - accuracy: 0.9966 - val_loss: 2.4099 - val_accuracy: 0.8967\n",
            "Epoch 25/30\n",
            "108/108 [==============================] - 1s 7ms/step - loss: 2.2908 - accuracy: 0.9969 - val_loss: 2.4177 - val_accuracy: 0.8943\n",
            "Epoch 26/30\n",
            "108/108 [==============================] - 1s 8ms/step - loss: 2.2904 - accuracy: 0.9969 - val_loss: 2.4012 - val_accuracy: 0.9144\n",
            "Epoch 27/30\n",
            "108/108 [==============================] - 1s 8ms/step - loss: 2.2902 - accuracy: 0.9973 - val_loss: 2.4174 - val_accuracy: 0.8905\n",
            "Epoch 28/30\n",
            "108/108 [==============================] - 1s 7ms/step - loss: 2.2903 - accuracy: 0.9976 - val_loss: 2.3884 - val_accuracy: 0.9163\n",
            "Epoch 29/30\n",
            "108/108 [==============================] - 1s 7ms/step - loss: 2.2897 - accuracy: 0.9975 - val_loss: 2.3949 - val_accuracy: 0.9129\n",
            "Epoch 30/30\n",
            "108/108 [==============================] - 1s 8ms/step - loss: 2.2889 - accuracy: 0.9977 - val_loss: 2.3925 - val_accuracy: 0.9109\n"
          ],
          "name": "stdout"
        }
      ]
    },
    {
      "cell_type": "code",
      "metadata": {
        "id": "Bw6tCPQsBuZu",
        "outputId": "ae7611f5-960e-4942-c420-7f57838b060c",
        "colab": {
          "base_uri": "https://localhost:8080/",
          "height": 70
        }
      },
      "source": [
        "loss, acc = model.evaluate(x_test, y_test)\n",
        "\n",
        "print('test loss: ', loss)\n",
        "print('test accuracy: ', acc* 100)"
      ],
      "execution_count": 9,
      "outputs": [
        {
          "output_type": "stream",
          "text": [
            "225/225 [==============================] - 0s 2ms/step - loss: 2.3925 - accuracy: 0.9109\n",
            "test loss:  2.3925418853759766\n",
            "test accuracy:  91.09035134315491\n"
          ],
          "name": "stdout"
        }
      ]
    },
    {
      "cell_type": "code",
      "metadata": {
        "id": "t5_AFT2sGtOB",
        "outputId": "51b29bbd-17f4-4c5b-bb3d-90fe03149557",
        "colab": {
          "base_uri": "https://localhost:8080/",
          "height": 615
        }
      },
      "source": [
        "model.summary()"
      ],
      "execution_count": 10,
      "outputs": [
        {
          "output_type": "stream",
          "text": [
            "Model: \"sequential\"\n",
            "_________________________________________________________________\n",
            "Layer (type)                 Output Shape              Param #   \n",
            "=================================================================\n",
            "conv2d (Conv2D)              (None, 28, 28, 20)        200       \n",
            "_________________________________________________________________\n",
            "max_pooling2d (MaxPooling2D) (None, 14, 14, 20)        0         \n",
            "_________________________________________________________________\n",
            "batch_normalization (BatchNo (None, 14, 14, 20)        60        \n",
            "_________________________________________________________________\n",
            "ternary_conv2d (TernaryConv2 (None, 14, 14, 40)        7200      \n",
            "_________________________________________________________________\n",
            "batch_normalization_1 (Batch (None, 14, 14, 40)        120       \n",
            "_________________________________________________________________\n",
            "max_pooling2d_1 (MaxPooling2 (None, 7, 7, 40)          0         \n",
            "_________________________________________________________________\n",
            "ternary_conv2d_1 (TernaryCon (None, 7, 7, 40)          14400     \n",
            "_________________________________________________________________\n",
            "max_pooling2d_2 (MaxPooling2 (None, 3, 3, 40)          0         \n",
            "_________________________________________________________________\n",
            "batch_normalization_2 (Batch (None, 3, 3, 40)          120       \n",
            "_________________________________________________________________\n",
            "flatten (Flatten)            (None, 360)               0         \n",
            "_________________________________________________________________\n",
            "ternary_dense (TernaryDense) (None, 50)                18000     \n",
            "_________________________________________________________________\n",
            "batch_normalization_3 (Batch (None, 50)                150       \n",
            "_________________________________________________________________\n",
            "dense (Dense)                (None, 25)                1275      \n",
            "=================================================================\n",
            "Total params: 41,525\n",
            "Trainable params: 41,225\n",
            "Non-trainable params: 300\n",
            "_________________________________________________________________\n"
          ],
          "name": "stdout"
        }
      ]
    },
    {
      "cell_type": "code",
      "metadata": {
        "id": "yn8LrtJ8B8Mu",
        "outputId": "2c3d8c8d-08e4-492b-fb69-3dd1ee0185b2",
        "colab": {
          "base_uri": "https://localhost:8080/",
          "height": 336
        }
      },
      "source": [
        "#Evaluate the Model\n",
        "plt.plot(history.history['accuracy'], label='accuracy')\n",
        "plt.plot(history.history['val_accuracy'], label = 'val_accuracy')\n",
        "plt.xlabel('Epoch')\n",
        "plt.ylabel('Accuracy')\n",
        "plt.ylim([0.5, 1])\n",
        "plt.legend(loc='lower right')\n",
        "test_loss, test_acc = model.evaluate(x_test, y_test, verbose=2)\n",
        "print('\\nTest accuracy:', test_acc*100)"
      ],
      "execution_count": 11,
      "outputs": [
        {
          "output_type": "stream",
          "text": [
            "225/225 - 0s - loss: 2.3925 - accuracy: 0.9109\n",
            "\n",
            "Test accuracy: 91.09035134315491\n"
          ],
          "name": "stdout"
        },
        {
          "output_type": "display_data",
          "data": {
            "image/png": "[encoded data removed]",
            "text/plain": [
              "<Figure size 432x288 with 1 Axes>"
            ]
          },
          "metadata": {
            "tags": [],
            "needs_background": "light"
          }
        }
      ]
    },
    {
      "cell_type": "code",
      "metadata": {
        "id": "wgcdnqU-vwNQ"
      },
      "source": [
        "model.save(\"sign_mnist_ternary.h5\")"
      ],
      "execution_count": 12,
      "outputs": []
    },
    {
      "cell_type": "code",
      "metadata": {
        "id": "G9GVC8Lhwl79",
        "outputId": "436c2f5b-4978-4d8f-f3af-af653c44f968",
        "colab": {
          "base_uri": "https://localhost:8080/",
          "height": 35
        }
      },
      "source": [
        "open('sign_mnist_ternary_model.yaml', 'w').write(model.to_yaml())"
      ],
      "execution_count": 13,
      "outputs": [
        {
          "output_type": "execute_result",
          "data": {
            "text/plain": [
              "7892"
            ]
          },
          "metadata": {
            "tags": []
          },
          "execution_count": 13
        }
      ]
    },
    {
      "cell_type": "code",
      "metadata": {
        "id": "eFFr_XAgxDSx"
      },
      "source": [
        ""
      ],
      "execution_count": 13,
      "outputs": []
    }
  ]
}