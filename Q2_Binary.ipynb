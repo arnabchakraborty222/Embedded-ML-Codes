{
  "nbformat": 4,
  "nbformat_minor": 0,
  "metadata": {
    "colab": {
      "name": "Q2_Binary.ipynb",
      "provenance": [],
      "collapsed_sections": []
    },
    "kernelspec": {
      "name": "python3",
      "display_name": "Python 3"
    },
    "accelerator": "GPU"
  },
  "cells": [
    {
      "cell_type": "code",
      "metadata": {
        "id": "VgfcgDbMW5BV"
      },
      "source": [
        "import pandas as pd\n",
        "import numpy as np\n",
        "import tensorflow as tf\n",
        "from tensorflow import keras\n",
        "import matplotlib.pyplot as plt\n",
        "from binary_layers import BinaryConv2D, BinaryDense"
      ],
      "execution_count": 1,
      "outputs": []
    },
    {
      "cell_type": "code",
      "metadata": {
        "id": "6On3GQLhYY7m"
      },
      "source": [
        "train_pd = pd.read_csv('sign_mnist_train.csv')\n",
        "\n",
        "test_pd = pd.read_csv('sign_mnist_test.csv')"
      ],
      "execution_count": 2,
      "outputs": []
    },
    {
      "cell_type": "code",
      "metadata": {
        "id": "85fDkDS-YcCI"
      },
      "source": [
        "x_train = train_pd.drop(['label'], axis=1).values\n",
        "y_train = train_pd['label'].values"
      ],
      "execution_count": 3,
      "outputs": []
    },
    {
      "cell_type": "code",
      "metadata": {
        "id": "2nbY2bTqZklA"
      },
      "source": [
        "x_test = test_pd.drop(['label'], axis=1).values\n",
        "y_test = test_pd['label'].values"
      ],
      "execution_count": 4,
      "outputs": []
    },
    {
      "cell_type": "code",
      "metadata": {
        "id": "omaYvUsEZnhw"
      },
      "source": [
        "x_train = x_train.reshape(x_train.shape[0], 28, 28, 1)\n",
        "\n",
        "x_test = x_test.reshape(x_test.shape[0], 28, 28, 1)\n"
      ],
      "execution_count": 5,
      "outputs": []
    },
    {
      "cell_type": "code",
      "metadata": {
        "id": "47cKGflFZrnA"
      },
      "source": [
        "x_train = x_train.astype('float32')\n",
        "\n",
        "x_test = x_test.astype('float32')"
      ],
      "execution_count": 6,
      "outputs": []
    },
    {
      "cell_type": "code",
      "metadata": {
        "id": "1WMHGFvaZtrq"
      },
      "source": [
        "# Normalize the input\n",
        "\n",
        "x_train = x_train/ 255\n",
        "\n",
        "x_test= x_test/ 255"
      ],
      "execution_count": 7,
      "outputs": []
    },
    {
      "cell_type": "code",
      "metadata": {
        "id": "r9AUpzKVZxi4"
      },
      "source": [
        "#Build the model\n",
        "\n",
        "model = keras.Sequential([\n",
        "    keras.layers.Conv2D(40, kernel_size=(3,3), padding='same', activation='relu', input_shape=(28,28,1)),\n",
        "    keras.layers.MaxPooling2D(pool_size=(2,2)),\n",
        "    keras.layers.BatchNormalization(center=True, scale=False),\n",
        "    BinaryConv2D(40, kernel_size=(3,3), padding='same', activation='relu', use_bias= False),\n",
        "    keras.layers.MaxPooling2D(pool_size=(2,2)),\n",
        "    keras.layers.BatchNormalization(center=True, scale=False),\n",
        "    BinaryConv2D(40, kernel_size=(3,3), padding='same', activation='relu',use_bias=False),\n",
        "    keras.layers.MaxPooling2D(pool_size=(2,2)),\n",
        "    keras.layers.BatchNormalization(center=True, scale=False),\n",
        "    keras.layers.Flatten(),\n",
        "    #keras.layers.Dense(100, activation='relu'),\n",
        "    BinaryDense(100, activation='relu', use_bias=False),\n",
        "    keras.layers.BatchNormalization(center=True, scale=False),\n",
        "    #keras.layers.Dropout(0.4),\n",
        "    keras.layers.Dense(25, activation='softmax', use_bias=False)\n",
        "])"
      ],
      "execution_count": 8,
      "outputs": []
    },
    {
      "cell_type": "code",
      "metadata": {
        "id": "eT_yhtatZ_pg",
        "outputId": "ba21eabb-5b5f-4643-a6a1-95c2dabc77f6",
        "colab": {
          "base_uri": "https://localhost:8080/"
        }
      },
      "source": [
        "model.compile(optimizer='adam',\n",
        "              loss=tf.keras.losses.SparseCategoricalCrossentropy(from_logits=True),\n",
        "              metrics=['accuracy'])\n",
        "\n",
        "history = model.fit(x_train, y_train, epochs=30, batch_size= 128, validation_data=(x_test, y_test))"
      ],
      "execution_count": 9,
      "outputs": [
        {
          "output_type": "stream",
          "text": [
            "Epoch 1/30\n",
            "215/215 [==============================] - 2s 8ms/step - loss: 2.9536 - accuracy: 0.4171 - val_loss: 3.1822 - val_accuracy: 0.1011\n",
            "Epoch 2/30\n",
            "215/215 [==============================] - 1s 7ms/step - loss: 2.5521 - accuracy: 0.8246 - val_loss: 3.0238 - val_accuracy: 0.3111\n",
            "Epoch 3/30\n",
            "215/215 [==============================] - 1s 7ms/step - loss: 2.4187 - accuracy: 0.9245 - val_loss: 2.6672 - val_accuracy: 0.6939\n",
            "Epoch 4/30\n",
            "215/215 [==============================] - 1s 6ms/step - loss: 2.3576 - accuracy: 0.9692 - val_loss: 2.5387 - val_accuracy: 0.7962\n",
            "Epoch 5/30\n",
            "215/215 [==============================] - 1s 7ms/step - loss: 2.3275 - accuracy: 0.9846 - val_loss: 2.4795 - val_accuracy: 0.8504\n",
            "Epoch 6/30\n",
            "215/215 [==============================] - 1s 7ms/step - loss: 2.3139 - accuracy: 0.9895 - val_loss: 2.4846 - val_accuracy: 0.8401\n",
            "Epoch 7/30\n",
            "215/215 [==============================] - 1s 7ms/step - loss: 2.3055 - accuracy: 0.9934 - val_loss: 2.4746 - val_accuracy: 0.8561\n",
            "Epoch 8/30\n",
            "215/215 [==============================] - 1s 6ms/step - loss: 2.2987 - accuracy: 0.9966 - val_loss: 2.4539 - val_accuracy: 0.8641\n",
            "Epoch 9/30\n",
            "215/215 [==============================] - 1s 6ms/step - loss: 2.2958 - accuracy: 0.9968 - val_loss: 2.4373 - val_accuracy: 0.8830\n",
            "Epoch 10/30\n",
            "215/215 [==============================] - 1s 7ms/step - loss: 2.2939 - accuracy: 0.9978 - val_loss: 2.4495 - val_accuracy: 0.8613\n",
            "Epoch 11/30\n",
            "215/215 [==============================] - 1s 6ms/step - loss: 2.2915 - accuracy: 0.9984 - val_loss: 2.4391 - val_accuracy: 0.8793\n",
            "Epoch 12/30\n",
            "215/215 [==============================] - 1s 7ms/step - loss: 2.2904 - accuracy: 0.9989 - val_loss: 2.4899 - val_accuracy: 0.8087\n",
            "Epoch 13/30\n",
            "215/215 [==============================] - 1s 6ms/step - loss: 2.2899 - accuracy: 0.9990 - val_loss: 2.4073 - val_accuracy: 0.9064\n",
            "Epoch 14/30\n",
            "215/215 [==============================] - 1s 6ms/step - loss: 2.2898 - accuracy: 0.9989 - val_loss: 2.4492 - val_accuracy: 0.8628\n",
            "Epoch 15/30\n",
            "215/215 [==============================] - 1s 6ms/step - loss: 2.2891 - accuracy: 0.9991 - val_loss: 2.4363 - val_accuracy: 0.8772\n",
            "Epoch 16/30\n",
            "215/215 [==============================] - 1s 6ms/step - loss: 2.2877 - accuracy: 0.9999 - val_loss: 2.4961 - val_accuracy: 0.8214\n",
            "Epoch 17/30\n",
            "215/215 [==============================] - 1s 7ms/step - loss: 2.2880 - accuracy: 0.9999 - val_loss: 2.3988 - val_accuracy: 0.9069\n",
            "Epoch 18/30\n",
            "215/215 [==============================] - 1s 7ms/step - loss: 2.2877 - accuracy: 0.9998 - val_loss: 2.4303 - val_accuracy: 0.8774\n",
            "Epoch 19/30\n",
            "215/215 [==============================] - 1s 7ms/step - loss: 2.2875 - accuracy: 0.9999 - val_loss: 2.4142 - val_accuracy: 0.8946\n",
            "Epoch 20/30\n",
            "215/215 [==============================] - 1s 6ms/step - loss: 2.2869 - accuracy: 0.9999 - val_loss: 2.4420 - val_accuracy: 0.8537\n",
            "Epoch 21/30\n",
            "215/215 [==============================] - 1s 6ms/step - loss: 2.2866 - accuracy: 0.9999 - val_loss: 2.4260 - val_accuracy: 0.8893\n",
            "Epoch 22/30\n",
            "215/215 [==============================] - 1s 6ms/step - loss: 2.2864 - accuracy: 0.9999 - val_loss: 2.4089 - val_accuracy: 0.8932\n",
            "Epoch 23/30\n",
            "215/215 [==============================] - 1s 6ms/step - loss: 2.2859 - accuracy: 1.0000 - val_loss: 2.4084 - val_accuracy: 0.8938\n",
            "Epoch 24/30\n",
            "215/215 [==============================] - 1s 6ms/step - loss: 2.2868 - accuracy: 0.9997 - val_loss: 2.6163 - val_accuracy: 0.6846\n",
            "Epoch 25/30\n",
            "215/215 [==============================] - 1s 6ms/step - loss: 2.2873 - accuracy: 0.9996 - val_loss: 2.4764 - val_accuracy: 0.8221\n",
            "Epoch 26/30\n",
            "215/215 [==============================] - 1s 7ms/step - loss: 2.2868 - accuracy: 0.9998 - val_loss: 2.4125 - val_accuracy: 0.8822\n",
            "Epoch 27/30\n",
            "215/215 [==============================] - 1s 6ms/step - loss: 2.2863 - accuracy: 0.9999 - val_loss: 2.4223 - val_accuracy: 0.8765\n",
            "Epoch 28/30\n",
            "215/215 [==============================] - 1s 7ms/step - loss: 2.2865 - accuracy: 0.9998 - val_loss: 2.4186 - val_accuracy: 0.8809\n",
            "Epoch 29/30\n",
            "215/215 [==============================] - 1s 7ms/step - loss: 2.2859 - accuracy: 1.0000 - val_loss: 2.3810 - val_accuracy: 0.9173\n",
            "Epoch 30/30\n",
            "215/215 [==============================] - 1s 6ms/step - loss: 2.2856 - accuracy: 1.0000 - val_loss: 2.3575 - val_accuracy: 0.9395\n"
          ],
          "name": "stdout"
        }
      ]
    },
    {
      "cell_type": "code",
      "metadata": {
        "id": "98Kg6dAafVL-",
        "outputId": "dd5bfb60-b565-43de-c5b2-627021ed80b2",
        "colab": {
          "base_uri": "https://localhost:8080/"
        }
      },
      "source": [
        "loss, acc = model.evaluate(x_test, y_test)\n",
        "\n",
        "print('test loss: ', loss)\n",
        "print('test accuracy: ', acc* 100)"
      ],
      "execution_count": 10,
      "outputs": [
        {
          "output_type": "stream",
          "text": [
            "225/225 [==============================] - 1s 2ms/step - loss: 2.3575 - accuracy: 0.9395\n",
            "test loss:  2.3575074672698975\n",
            "test accuracy:  93.94869208335876\n"
          ],
          "name": "stdout"
        }
      ]
    },
    {
      "cell_type": "code",
      "metadata": {
        "id": "XEXWE-_gfYco",
        "outputId": "e2c19d1a-afd8-49d6-ac21-e22a38fa48af",
        "colab": {
          "base_uri": "https://localhost:8080/",
          "height": 336
        }
      },
      "source": [
        "#Evaluate the Model\n",
        "plt.plot(history.history['accuracy'], label='accuracy')\n",
        "plt.plot(history.history['val_accuracy'], label = 'val_accuracy')\n",
        "plt.xlabel('Epoch')\n",
        "plt.ylabel('Accuracy')\n",
        "plt.ylim([0.5, 1])\n",
        "plt.legend(loc='lower right')\n",
        "test_loss, test_acc = model.evaluate(x_test, y_test, verbose=2)\n",
        "print('\\nTest accuracy:', test_acc*100)"
      ],
      "execution_count": 11,
      "outputs": [
        {
          "output_type": "stream",
          "text": [
            "225/225 - 0s - loss: 2.3575 - accuracy: 0.9395\n",
            "\n",
            "Test accuracy: 93.94869208335876\n"
          ],
          "name": "stdout"
        },
        {
          "output_type": "display_data",
          "data": {
            "image/png": "[encoded data removed]",
            "text/plain": [
              "<Figure size 432x288 with 1 Axes>"
            ]
          },
          "metadata": {
            "tags": [],
            "needs_background": "light"
          }
        }
      ]
    },
    {
      "cell_type": "code",
      "metadata": {
        "id": "msU0qUllerHf",
        "outputId": "b9819b8c-04cc-4937-ad2a-cbcd49a16fa0",
        "colab": {
          "base_uri": "https://localhost:8080/"
        }
      },
      "source": [
        "model.summary()"
      ],
      "execution_count": 12,
      "outputs": [
        {
          "output_type": "stream",
          "text": [
            "Model: \"sequential\"\n",
            "_________________________________________________________________\n",
            "Layer (type)                 Output Shape              Param #   \n",
            "=================================================================\n",
            "conv2d (Conv2D)              (None, 28, 28, 40)        400       \n",
            "_________________________________________________________________\n",
            "max_pooling2d (MaxPooling2D) (None, 14, 14, 40)        0         \n",
            "_________________________________________________________________\n",
            "batch_normalization (BatchNo (None, 14, 14, 40)        120       \n",
            "_________________________________________________________________\n",
            "binary_conv2d (BinaryConv2D) (None, 14, 14, 40)        14400     \n",
            "_________________________________________________________________\n",
            "max_pooling2d_1 (MaxPooling2 (None, 7, 7, 40)          0         \n",
            "_________________________________________________________________\n",
            "batch_normalization_1 (Batch (None, 7, 7, 40)          120       \n",
            "_________________________________________________________________\n",
            "binary_conv2d_1 (BinaryConv2 (None, 7, 7, 40)          14400     \n",
            "_________________________________________________________________\n",
            "max_pooling2d_2 (MaxPooling2 (None, 3, 3, 40)          0         \n",
            "_________________________________________________________________\n",
            "batch_normalization_2 (Batch (None, 3, 3, 40)          120       \n",
            "_________________________________________________________________\n",
            "flatten (Flatten)            (None, 360)               0         \n",
            "_________________________________________________________________\n",
            "binary_dense_1 (BinaryDense) (None, 100)               36000     \n",
            "_________________________________________________________________\n",
            "batch_normalization_3 (Batch (None, 100)               300       \n",
            "_________________________________________________________________\n",
            "dense (Dense)                (None, 25)                2500      \n",
            "=================================================================\n",
            "Total params: 68,360\n",
            "Trainable params: 67,920\n",
            "Non-trainable params: 440\n",
            "_________________________________________________________________\n"
          ],
          "name": "stdout"
        }
      ]
    },
    {
      "cell_type": "code",
      "metadata": {
        "id": "w07wnSRYes1i"
      },
      "source": [
        "model.save(\"sign_mnist_binary.h5\")"
      ],
      "execution_count": 17,
      "outputs": []
    },
    {
      "cell_type": "code",
      "metadata": {
        "id": "uQkBOsd9eylF",
        "outputId": "01b439ce-d680-4bee-fc0a-c52af5682abb",
        "colab": {
          "base_uri": "https://localhost:8080/"
        }
      },
      "source": [
        "open('sign_mnist_binary_model.yaml', 'w').write(model.to_yaml())"
      ],
      "execution_count": 18,
      "outputs": [
        {
          "output_type": "execute_result",
          "data": {
            "text/plain": [
              "7890"
            ]
          },
          "metadata": {
            "tags": []
          },
          "execution_count": 18
        }
      ]
    },
    {
      "cell_type": "code",
      "metadata": {
        "id": "3myBhWr-fCI_"
      },
      "source": [
        ""
      ],
      "execution_count": null,
      "outputs": []
    }
  ]
}