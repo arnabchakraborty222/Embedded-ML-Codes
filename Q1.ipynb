{
  "nbformat": 4,
  "nbformat_minor": 0,
  "metadata": {
    "colab": {
      "name": "Q1.ipynb",
      "provenance": [],
      "collapsed_sections": []
    },
    "kernelspec": {
      "name": "python3",
      "display_name": "Python 3"
    },
    "accelerator": "GPU"
  },
  "cells": [
    {
      "cell_type": "code",
      "metadata": {
        "id": "5ocdlhhuOwZe"
      },
      "source": [
        "import pandas as pd\n",
        "import numpy as np\n",
        "import tensorflow as tf\n",
        "from tensorflow import keras\n",
        "import matplotlib.pyplot as plt\n"
      ],
      "execution_count": 79,
      "outputs": []
    },
    {
      "cell_type": "code",
      "metadata": {
        "id": "k6435gfdQFi_"
      },
      "source": [
        "train_pd = pd.read_csv('sign_mnist_train.csv')\n",
        "\n",
        "test_pd = pd.read_csv('sign_mnist_test.csv')"
      ],
      "execution_count": 80,
      "outputs": []
    },
    {
      "cell_type": "code",
      "metadata": {
        "id": "d92_SCeXQF6P",
        "outputId": "7131fa43-c9f3-4406-a43e-0ef0bf98adcb",
        "colab": {
          "base_uri": "https://localhost:8080/",
          "height": 35
        }
      },
      "source": [
        "train_pd.shape, test_pd.shape"
      ],
      "execution_count": 81,
      "outputs": [
        {
          "output_type": "execute_result",
          "data": {
            "text/plain": [
              "((27455, 785), (7172, 785))"
            ]
          },
          "metadata": {
            "tags": []
          },
          "execution_count": 81
        }
      ]
    },
    {
      "cell_type": "code",
      "metadata": {
        "id": "PqotIh4oRnLa"
      },
      "source": [
        "x_train = train_pd.drop(['label'], axis=1).values\n",
        "y_train = train_pd['label'].values"
      ],
      "execution_count": 82,
      "outputs": []
    },
    {
      "cell_type": "code",
      "metadata": {
        "id": "i1UBDpkySuVm",
        "outputId": "b0ea51dc-1f43-4cca-8ee2-22a51276df67",
        "colab": {
          "base_uri": "https://localhost:8080/",
          "height": 35
        }
      },
      "source": [
        "x_train.shape, y_train.shape"
      ],
      "execution_count": 83,
      "outputs": [
        {
          "output_type": "execute_result",
          "data": {
            "text/plain": [
              "((27455, 784), (27455,))"
            ]
          },
          "metadata": {
            "tags": []
          },
          "execution_count": 83
        }
      ]
    },
    {
      "cell_type": "code",
      "metadata": {
        "id": "YFTgjDBTSvlO"
      },
      "source": [
        "x_test = test_pd.drop(['label'], axis=1).values\n",
        "y_test = test_pd['label'].values"
      ],
      "execution_count": 84,
      "outputs": []
    },
    {
      "cell_type": "code",
      "metadata": {
        "id": "ABqRJC82TK8t",
        "outputId": "de380d1a-4cb8-4bde-88c8-4bbb5811fb9b",
        "colab": {
          "base_uri": "https://localhost:8080/",
          "height": 35
        }
      },
      "source": [
        "x_test.shape, y_test.shape"
      ],
      "execution_count": 85,
      "outputs": [
        {
          "output_type": "execute_result",
          "data": {
            "text/plain": [
              "((7172, 784), (7172,))"
            ]
          },
          "metadata": {
            "tags": []
          },
          "execution_count": 85
        }
      ]
    },
    {
      "cell_type": "code",
      "metadata": {
        "id": "mhMHFXsiTNm4"
      },
      "source": [
        "x_train = x_train.reshape(x_train.shape[0], 28, 28, 1)\n",
        "\n",
        "x_test = x_test.reshape(x_test.shape[0], 28, 28, 1)\n"
      ],
      "execution_count": 86,
      "outputs": []
    },
    {
      "cell_type": "code",
      "metadata": {
        "id": "zHd-IuMAUAcy"
      },
      "source": [
        "# Normalize the input\n",
        "\n",
        "x_train = x_train/ 255\n",
        "\n",
        "x_test= x_test/ 255\n",
        "\n",
        "batch_size=128"
      ],
      "execution_count": 87,
      "outputs": []
    },
    {
      "cell_type": "markdown",
      "metadata": {
        "id": "CwbxOYO-mlTP"
      },
      "source": [
        "# BASELINE MODEL"
      ]
    },
    {
      "cell_type": "code",
      "metadata": {
        "id": "SsxwEpfhUhBX"
      },
      "source": [
        "#Build the model\n",
        "\n",
        "model = keras.Sequential([\n",
        "    keras.layers.Conv2D(20, kernel_size=(3,3), padding='same', activation='relu', input_shape=(28,28,1)),\n",
        "    keras.layers.MaxPooling2D(pool_size=(2,2)),\n",
        "    keras.layers.Conv2D(40, kernel_size=(3,3), padding='same', activation='relu'),\n",
        "    keras.layers.MaxPooling2D(pool_size=(2,2)),\n",
        "    keras.layers.Conv2D(80, kernel_size=(3,3), padding='same', activation='relu'),\n",
        "    keras.layers.MaxPooling2D(pool_size=(2,2)),\n",
        "    keras.layers.Flatten(),\n",
        "    keras.layers.Dense(500, activation='relu'),\n",
        "    keras.layers.Dropout(0.4),\n",
        "    keras.layers.Dense(25, activation='softmax')\n",
        "])"
      ],
      "execution_count": 10,
      "outputs": []
    },
    {
      "cell_type": "code",
      "metadata": {
        "id": "6DWT-N2fWaxx",
        "outputId": "79ec61ba-52a5-4c59-a68a-4e215eabfcf4",
        "colab": {
          "base_uri": "https://localhost:8080/",
          "height": 1000
        }
      },
      "source": [
        "model.compile(optimizer='adam',\n",
        "              loss=tf.keras.losses.SparseCategoricalCrossentropy(from_logits=True),\n",
        "              metrics=['accuracy'])\n",
        "\n",
        "history = model.fit(x_train, y_train, epochs=30, batch_size= batch_size, validation_data=(x_test, y_test))"
      ],
      "execution_count": 11,
      "outputs": [
        {
          "output_type": "stream",
          "text": [
            "Epoch 1/30\n",
            "215/215 [==============================] - 1s 6ms/step - loss: 3.0453 - accuracy: 0.2428 - val_loss: 2.9343 - val_accuracy: 0.3515\n",
            "Epoch 2/30\n",
            "215/215 [==============================] - 1s 4ms/step - loss: 2.7413 - accuracy: 0.5527 - val_loss: 2.7461 - val_accuracy: 0.5512\n",
            "Epoch 3/30\n",
            "215/215 [==============================] - 1s 4ms/step - loss: 2.6381 - accuracy: 0.6526 - val_loss: 2.7002 - val_accuracy: 0.5859\n",
            "Epoch 4/30\n",
            "215/215 [==============================] - 1s 4ms/step - loss: 2.6190 - accuracy: 0.6679 - val_loss: 2.6882 - val_accuracy: 0.5968\n",
            "Epoch 5/30\n",
            "215/215 [==============================] - 1s 4ms/step - loss: 2.6017 - accuracy: 0.6845 - val_loss: 2.6596 - val_accuracy: 0.6266\n",
            "Epoch 6/30\n",
            "215/215 [==============================] - 1s 4ms/step - loss: 2.5792 - accuracy: 0.7060 - val_loss: 2.6350 - val_accuracy: 0.6535\n",
            "Epoch 7/30\n",
            "215/215 [==============================] - 1s 4ms/step - loss: 2.5303 - accuracy: 0.7571 - val_loss: 2.5184 - val_accuracy: 0.7740\n",
            "Epoch 8/30\n",
            "215/215 [==============================] - 1s 4ms/step - loss: 2.4399 - accuracy: 0.8491 - val_loss: 2.4210 - val_accuracy: 0.8692\n",
            "Epoch 9/30\n",
            "215/215 [==============================] - 1s 4ms/step - loss: 2.3824 - accuracy: 0.9054 - val_loss: 2.3970 - val_accuracy: 0.8926\n",
            "Epoch 10/30\n",
            "215/215 [==============================] - 1s 4ms/step - loss: 2.3447 - accuracy: 0.9431 - val_loss: 2.3655 - val_accuracy: 0.9222\n",
            "Epoch 11/30\n",
            "215/215 [==============================] - 1s 4ms/step - loss: 2.3341 - accuracy: 0.9525 - val_loss: 2.3649 - val_accuracy: 0.9214\n",
            "Epoch 12/30\n",
            "215/215 [==============================] - 1s 5ms/step - loss: 2.3335 - accuracy: 0.9526 - val_loss: 2.3610 - val_accuracy: 0.9260\n",
            "Epoch 13/30\n",
            "215/215 [==============================] - 1s 5ms/step - loss: 2.3321 - accuracy: 0.9537 - val_loss: 2.3602 - val_accuracy: 0.9257\n",
            "Epoch 14/30\n",
            "215/215 [==============================] - 1s 5ms/step - loss: 2.3316 - accuracy: 0.9539 - val_loss: 2.3614 - val_accuracy: 0.9285\n",
            "Epoch 15/30\n",
            "215/215 [==============================] - 1s 5ms/step - loss: 2.3038 - accuracy: 0.9839 - val_loss: 2.3344 - val_accuracy: 0.9534\n",
            "Epoch 16/30\n",
            "215/215 [==============================] - 1s 5ms/step - loss: 2.2926 - accuracy: 0.9938 - val_loss: 2.3346 - val_accuracy: 0.9515\n",
            "Epoch 17/30\n",
            "215/215 [==============================] - 1s 4ms/step - loss: 2.2904 - accuracy: 0.9957 - val_loss: 2.3340 - val_accuracy: 0.9534\n",
            "Epoch 18/30\n",
            "215/215 [==============================] - 1s 5ms/step - loss: 2.2915 - accuracy: 0.9946 - val_loss: 2.3291 - val_accuracy: 0.9578\n",
            "Epoch 19/30\n",
            "215/215 [==============================] - 1s 5ms/step - loss: 2.2893 - accuracy: 0.9966 - val_loss: 2.3201 - val_accuracy: 0.9671\n",
            "Epoch 20/30\n",
            "215/215 [==============================] - 1s 5ms/step - loss: 2.2878 - accuracy: 0.9981 - val_loss: 2.3231 - val_accuracy: 0.9632\n",
            "Epoch 21/30\n",
            "215/215 [==============================] - 1s 5ms/step - loss: 2.2863 - accuracy: 0.9994 - val_loss: 2.3332 - val_accuracy: 0.9541\n",
            "Epoch 22/30\n",
            "215/215 [==============================] - 1s 5ms/step - loss: 2.2879 - accuracy: 0.9982 - val_loss: 2.3310 - val_accuracy: 0.9573\n",
            "Epoch 23/30\n",
            "215/215 [==============================] - 1s 4ms/step - loss: 2.2869 - accuracy: 0.9988 - val_loss: 2.3210 - val_accuracy: 0.9657\n",
            "Epoch 24/30\n",
            "215/215 [==============================] - 1s 4ms/step - loss: 2.2873 - accuracy: 0.9984 - val_loss: 2.3173 - val_accuracy: 0.9686\n",
            "Epoch 25/30\n",
            "215/215 [==============================] - 1s 4ms/step - loss: 2.2862 - accuracy: 0.9994 - val_loss: 2.3253 - val_accuracy: 0.9631\n",
            "Epoch 26/30\n",
            "215/215 [==============================] - 1s 4ms/step - loss: 2.2861 - accuracy: 0.9994 - val_loss: 2.3264 - val_accuracy: 0.9590\n",
            "Epoch 27/30\n",
            "215/215 [==============================] - 1s 4ms/step - loss: 2.2874 - accuracy: 0.9984 - val_loss: 2.3237 - val_accuracy: 0.9651\n",
            "Epoch 28/30\n",
            "215/215 [==============================] - 1s 4ms/step - loss: 2.2875 - accuracy: 0.9983 - val_loss: 2.3253 - val_accuracy: 0.9618\n",
            "Epoch 29/30\n",
            "215/215 [==============================] - 1s 4ms/step - loss: 2.2876 - accuracy: 0.9981 - val_loss: 2.3259 - val_accuracy: 0.9596\n",
            "Epoch 30/30\n",
            "215/215 [==============================] - 1s 4ms/step - loss: 2.2864 - accuracy: 0.9992 - val_loss: 2.3170 - val_accuracy: 0.9689\n"
          ],
          "name": "stdout"
        }
      ]
    },
    {
      "cell_type": "code",
      "metadata": {
        "id": "amTa_GnSXg6Z",
        "outputId": "e98841f9-85aa-4f30-df86-727016c0cb6c",
        "colab": {
          "base_uri": "https://localhost:8080/",
          "height": 70
        }
      },
      "source": [
        "loss, acc = model.evaluate(x_test, y_test)\n",
        "\n",
        "print('test loss: ', loss)\n",
        "print('test accuracy: ', acc* 100)"
      ],
      "execution_count": 12,
      "outputs": [
        {
          "output_type": "stream",
          "text": [
            "225/225 [==============================] - 0s 2ms/step - loss: 2.3170 - accuracy: 0.9689\n",
            "test loss:  2.3170039653778076\n",
            "test accuracy:  96.89068794250488\n"
          ],
          "name": "stdout"
        }
      ]
    },
    {
      "cell_type": "code",
      "metadata": {
        "id": "U60VRKYpXutH",
        "outputId": "8bc98c29-1f95-4f93-d09c-f2306f698da5",
        "colab": {
          "base_uri": "https://localhost:8080/",
          "height": 336
        }
      },
      "source": [
        "#Evaluate the Model\n",
        "plt.plot(history.history['accuracy'], label='accuracy')\n",
        "plt.plot(history.history['val_accuracy'], label = 'val_accuracy')\n",
        "plt.xlabel('Epoch')\n",
        "plt.ylabel('Accuracy')\n",
        "plt.ylim([0.5, 1])\n",
        "plt.legend(loc='lower right')\n",
        "test_loss, test_acc = model.evaluate(x_test, y_test, verbose=2)\n",
        "print('\\nTest accuracy:', test_acc*100)"
      ],
      "execution_count": 13,
      "outputs": [
        {
          "output_type": "stream",
          "text": [
            "225/225 - 0s - loss: 2.3170 - accuracy: 0.9689\n",
            "\n",
            "Test accuracy: 96.89068794250488\n"
          ],
          "name": "stdout"
        },
        {
          "output_type": "display_data",
          "data": {
            "image/png": "[encoded data removed]",
            "text/plain": [
              "<Figure size 432x288 with 1 Axes>"
            ]
          },
          "metadata": {
            "tags": [],
            "needs_background": "light"
          }
        }
      ]
    },
    {
      "cell_type": "markdown",
      "metadata": {
        "id": "hQs-gEeJmtF3"
      },
      "source": [
        "# CONVERTING INTO TFLITE MODEL"
      ]
    },
    {
      "cell_type": "code",
      "metadata": {
        "id": "SDx-E3GTa2X5",
        "outputId": "b1bcd8db-d043-45c1-9943-020169886b05",
        "colab": {
          "base_uri": "https://localhost:8080/",
          "height": 160
        }
      },
      "source": [
        "converter = tf.lite.TFLiteConverter.from_keras_model(model)\n",
        "tflite_model = converter.convert()\n"
      ],
      "execution_count": 14,
      "outputs": [
        {
          "output_type": "stream",
          "text": [
            "WARNING:tensorflow:From /usr/local/lib/python3.6/dist-packages/tensorflow/python/training/tracking/tracking.py:111: Model.state_updates (from tensorflow.python.keras.engine.training) is deprecated and will be removed in a future version.\n",
            "Instructions for updating:\n",
            "This property should not be used in TensorFlow 2.0, as updates are applied automatically.\n",
            "WARNING:tensorflow:From /usr/local/lib/python3.6/dist-packages/tensorflow/python/training/tracking/tracking.py:111: Layer.updates (from tensorflow.python.keras.engine.base_layer) is deprecated and will be removed in a future version.\n",
            "Instructions for updating:\n",
            "This property should not be used in TensorFlow 2.0, as updates are applied automatically.\n",
            "INFO:tensorflow:Assets written to: /tmp/tmpfak9rrvi/assets\n"
          ],
          "name": "stdout"
        }
      ]
    },
    {
      "cell_type": "code",
      "metadata": {
        "id": "Jz3DYjux1Mk_"
      },
      "source": [
        "with open('sign_mnist_model.tflite', 'wb') as f:\n",
        "  f.write(tflite_model)\n"
      ],
      "execution_count": 15,
      "outputs": []
    },
    {
      "cell_type": "code",
      "metadata": {
        "id": "sJwtmXHS9CU0"
      },
      "source": [
        "def evaluate_model(interpreter):\n",
        "  input_index = interpreter.get_input_details()[0][\"index\"]\n",
        "  output_index = interpreter.get_output_details()[0][\"index\"]\n",
        "\n",
        "  # Run predictions on ever y image in the \"test\" dataset.\n",
        "  prediction_digits = []\n",
        "  for i, test_image in enumerate(x_test):\n",
        "    if i % 1000 == 0:\n",
        "      print('Evaluated on {n} results so far.'.format(n=i))\n",
        "    # Pre-processing: add batch dimension and convert to float32 to match with\n",
        "    # the model's input data format.\n",
        "    test_image = np.expand_dims(test_image, axis=0).astype(np.float32)\n",
        "    interpreter.set_tensor(input_index, test_image)\n",
        "\n",
        "    # Run inference.\n",
        "    interpreter.invoke()\n",
        "\n",
        "    # Post-processing: remove batch dimension and find the digit with highest\n",
        "    # probability.\n",
        "    output = interpreter.tensor(output_index)\n",
        "    digit = np.argmax(output()[0])\n",
        "    prediction_digits.append(digit)\n",
        "\n",
        "  print('\\n')\n",
        "  # Compare prediction results with ground truth labels to calculate accuracy.\n",
        "  prediction_digits = np.array(prediction_digits)\n",
        "  accuracy = (prediction_digits == y_test).mean()\n",
        "  return accuracy"
      ],
      "execution_count": 16,
      "outputs": []
    },
    {
      "cell_type": "code",
      "metadata": {
        "id": "mNI7sxscMyq6",
        "outputId": "be793bee-318e-48e8-819e-7a95fbac24c8",
        "colab": {
          "base_uri": "https://localhost:8080/",
          "height": 211
        }
      },
      "source": [
        "interpreter = tf.lite.Interpreter(model_content=tflite_model)\n",
        "interpreter.allocate_tensors()\n",
        "\n",
        "test_accuracy = evaluate_model(interpreter)\n",
        "\n",
        "print('TFLite Test Accuracy:', test_accuracy*100)"
      ],
      "execution_count": 17,
      "outputs": [
        {
          "output_type": "stream",
          "text": [
            "Evaluated on 0 results so far.\n",
            "Evaluated on 1000 results so far.\n",
            "Evaluated on 2000 results so far.\n",
            "Evaluated on 3000 results so far.\n",
            "Evaluated on 4000 results so far.\n",
            "Evaluated on 5000 results so far.\n",
            "Evaluated on 6000 results so far.\n",
            "Evaluated on 7000 results so far.\n",
            "\n",
            "\n",
            "TFLite Test Accuracy: 96.89068600111544\n"
          ],
          "name": "stdout"
        }
      ]
    },
    {
      "cell_type": "markdown",
      "metadata": {
        "id": "V8Q0HNulm7rv"
      },
      "source": [
        "# TFLITE FLOAT- 16 QUANTIZATION"
      ]
    },
    {
      "cell_type": "code",
      "metadata": {
        "id": "dT4cbHU73kMh",
        "outputId": "fb14d4a4-0b3b-4669-fc58-b7fa00e1b4de",
        "colab": {
          "base_uri": "https://localhost:8080/",
          "height": 52
        }
      },
      "source": [
        "converter = tf.lite.TFLiteConverter.from_keras_model(model)\n",
        "converter.optimizations= [tf.lite.Optimize.DEFAULT]\n",
        "converter.target_spec.supported_types= [tf.float16]\n",
        "tflite_quant_f16_model = converter.convert()"
      ],
      "execution_count": 18,
      "outputs": [
        {
          "output_type": "stream",
          "text": [
            "INFO:tensorflow:Assets written to: /tmp/tmp7jn0_mrx/assets\n"
          ],
          "name": "stdout"
        },
        {
          "output_type": "stream",
          "text": [
            "INFO:tensorflow:Assets written to: /tmp/tmp7jn0_mrx/assets\n"
          ],
          "name": "stderr"
        }
      ]
    },
    {
      "cell_type": "code",
      "metadata": {
        "id": "_mpeG3uE3o6e"
      },
      "source": [
        "with open('sign_mnist_model_quant_f16.tflite', 'wb') as f:\n",
        "  f.write(tflite_quant_f16_model)"
      ],
      "execution_count": 19,
      "outputs": []
    },
    {
      "cell_type": "code",
      "metadata": {
        "id": "hUI37CXg4MjS",
        "outputId": "3a277538-d7fe-44f8-aac7-ddedc20f853e",
        "colab": {
          "base_uri": "https://localhost:8080/",
          "height": 211
        }
      },
      "source": [
        "interpreter = tf.lite.Interpreter(model_content=tflite_quant_f16_model)\n",
        "interpreter.allocate_tensors()\n",
        "\n",
        "test_accuracy = evaluate_model(interpreter)\n",
        "\n",
        "print('TFLite Quant Float-16 Test Accuracy % :', test_accuracy*100)"
      ],
      "execution_count": 20,
      "outputs": [
        {
          "output_type": "stream",
          "text": [
            "Evaluated on 0 results so far.\n",
            "Evaluated on 1000 results so far.\n",
            "Evaluated on 2000 results so far.\n",
            "Evaluated on 3000 results so far.\n",
            "Evaluated on 4000 results so far.\n",
            "Evaluated on 5000 results so far.\n",
            "Evaluated on 6000 results so far.\n",
            "Evaluated on 7000 results so far.\n",
            "\n",
            "\n",
            "TFLite Quant Float-16 Test Accuracy % : 96.87674288901282\n"
          ],
          "name": "stdout"
        }
      ]
    },
    {
      "cell_type": "markdown",
      "metadata": {
        "id": "nsGps9kwnup9"
      },
      "source": [
        "# TFLITE DYNAMIC QUANTIZATION"
      ]
    },
    {
      "cell_type": "code",
      "metadata": {
        "id": "HgB12n5iOUiC",
        "outputId": "7834246f-1e3c-4d16-fe4e-7e856616e1a2",
        "colab": {
          "base_uri": "https://localhost:8080/",
          "height": 52
        }
      },
      "source": [
        "converter = tf.lite.TFLiteConverter.from_keras_model(model)\n",
        "converter.optimizations = [tf.lite.Optimize.DEFAULT]\n",
        "tflite_dynamic_quant_model = converter.convert()"
      ],
      "execution_count": 21,
      "outputs": [
        {
          "output_type": "stream",
          "text": [
            "INFO:tensorflow:Assets written to: /tmp/tmpdfrmomi7/assets\n"
          ],
          "name": "stdout"
        },
        {
          "output_type": "stream",
          "text": [
            "INFO:tensorflow:Assets written to: /tmp/tmpdfrmomi7/assets\n"
          ],
          "name": "stderr"
        }
      ]
    },
    {
      "cell_type": "code",
      "metadata": {
        "id": "AXDdxA5HTfH3"
      },
      "source": [
        "with open('sign_mnist_model_quant_dyn.tflite', 'wb') as f:\n",
        "  f.write(tflite_dynamic_quant_model)"
      ],
      "execution_count": 22,
      "outputs": []
    },
    {
      "cell_type": "code",
      "metadata": {
        "id": "e7w_V0a7Tqyu",
        "outputId": "d2a868e0-c90c-424b-d887-1f15b8b8fb14",
        "colab": {
          "base_uri": "https://localhost:8080/",
          "height": 211
        }
      },
      "source": [
        "interpreter = tf.lite.Interpreter(model_content=tflite_dynamic_quant_model)\n",
        "interpreter.allocate_tensors()\n",
        "\n",
        "test_accuracy = evaluate_model(interpreter)\n",
        "\n",
        "print('TFLite Dynamic Quantization Test Accuracy:', test_accuracy*100)"
      ],
      "execution_count": 23,
      "outputs": [
        {
          "output_type": "stream",
          "text": [
            "Evaluated on 0 results so far.\n",
            "Evaluated on 1000 results so far.\n",
            "Evaluated on 2000 results so far.\n",
            "Evaluated on 3000 results so far.\n",
            "Evaluated on 4000 results so far.\n",
            "Evaluated on 5000 results so far.\n",
            "Evaluated on 6000 results so far.\n",
            "Evaluated on 7000 results so far.\n",
            "\n",
            "\n",
            "TFLite Dynamic Quantization Test Accuracy: 96.93251533742331\n"
          ],
          "name": "stdout"
        }
      ]
    },
    {
      "cell_type": "markdown",
      "metadata": {
        "id": "CPx6SPFNoVzA"
      },
      "source": [
        "# TFLITE INT8 QUATIZATION"
      ]
    },
    {
      "cell_type": "code",
      "metadata": {
        "id": "AcyNpfO85zQ6"
      },
      "source": [
        "x_train= x_train.astype(np.float32)"
      ],
      "execution_count": 89,
      "outputs": []
    },
    {
      "cell_type": "code",
      "metadata": {
        "id": "R26pnXHJ27ug",
        "outputId": "8be6e1ce-e701-413c-c6e8-3fb93f914b29",
        "colab": {
          "base_uri": "https://localhost:8080/",
          "height": 52
        }
      },
      "source": [
        "def representative_data_gen():\n",
        "  for input_value in tf.data.Dataset.from_tensor_slices(x_train).batch(1).take(100):\n",
        "    yield [input_value]\n",
        "\n",
        "converter = tf.lite.TFLiteConverter.from_keras_model(model)\n",
        "converter.optimizations = [tf.lite.Optimize.DEFAULT]\n",
        "converter.representative_dataset = representative_data_gen\n",
        "# Ensure that if any ops can't be quantized, the converter throws an error\n",
        "converter.target_spec.supported_ops = [tf.lite.OpsSet.TFLITE_BUILTINS_INT8]\n",
        "# Set the input and output tensors to uint8 (APIs added in r2.3)\n",
        "converter.inference_input_type = tf.uint8\n",
        "converter.inference_output_type = tf.uint8\n",
        "\n",
        "tflite_int8_quant = converter.convert()\n",
        "with open('sign_mnist_model_quant_int8.tflite', 'wb') as f:\n",
        "  f.write(tflite_int8_quant)"
      ],
      "execution_count": 96,
      "outputs": [
        {
          "output_type": "stream",
          "text": [
            "INFO:tensorflow:Assets written to: /tmp/tmpxgah7c_h/assets\n"
          ],
          "name": "stdout"
        },
        {
          "output_type": "stream",
          "text": [
            "INFO:tensorflow:Assets written to: /tmp/tmpxgah7c_h/assets\n"
          ],
          "name": "stderr"
        }
      ]
    },
    {
      "cell_type": "code",
      "metadata": {
        "id": "_vHZNKGJyhVd"
      },
      "source": [
        "# Helper function to run inference on a TFLite model\n",
        "def run_tflite_model(tflite_file, test_image_indices):\n",
        "  global x_test\n",
        "\n",
        "  # Initialize the interpreter\n",
        "  interpreter = tf.lite.Interpreter(model_path=str(tflite_file))\n",
        "  interpreter.allocate_tensors()\n",
        "\n",
        "  input_details = interpreter.get_input_details()[0]\n",
        "  output_details = interpreter.get_output_details()[0]\n",
        "\n",
        "  predictions = np.zeros((len(test_image_indices),), dtype=int)\n",
        "  for i, test_image_index in enumerate(test_image_indices):\n",
        "    test_image = x_test[test_image_index]\n",
        "    test_label = y_test[test_image_index]\n",
        "\n",
        "    # Check if the input type is quantized, then rescale input data to uint8\n",
        "    if input_details['dtype'] == np.uint8:\n",
        "      input_scale, input_zero_point = input_details[\"quantization\"]\n",
        "      test_image = test_image / input_scale + input_zero_point\n",
        "\n",
        "    test_image = np.expand_dims(test_image, axis=0).astype(input_details[\"dtype\"])\n",
        "    interpreter.set_tensor(input_details[\"index\"], test_image)\n",
        "    interpreter.invoke()\n",
        "    output = interpreter.get_tensor(output_details[\"index\"])[0]\n",
        "\n",
        "    predictions[i] = output.argmax()\n",
        "\n",
        "  return predictions\n"
      ],
      "execution_count": 105,
      "outputs": []
    },
    {
      "cell_type": "code",
      "metadata": {
        "id": "Snr9jWAzyldD"
      },
      "source": [
        "# Helper function to evaluate a TFLite model on all images\n",
        "def evaluate_model(tflite_model, model_type):\n",
        "  global x_test\n",
        "  global y_test\n",
        "\n",
        "  test_image_indices = range(x_test.shape[0])\n",
        "  predictions = run_tflite_model(tflite_model, test_image_indices)\n",
        "\n",
        "  accuracy = (np.sum(y_test == predictions) * 100) / len(x_test)\n",
        "\n",
        "  print('%s model accuracy is %.4f%% (Number of test samples=%d)' % (\n",
        "      model_type, accuracy, len(x_test)))"
      ],
      "execution_count": 106,
      "outputs": []
    },
    {
      "cell_type": "code",
      "metadata": {
        "id": "LfcNIrdsytN7",
        "outputId": "3f499526-a95c-4d7d-d020-5965273c8db2",
        "colab": {
          "base_uri": "https://localhost:8080/",
          "height": 35
        }
      },
      "source": [
        "evaluate_model('sign_mnist_model_quant_int8.tflite', model_type=\"Quantized\")"
      ],
      "execution_count": 107,
      "outputs": [
        {
          "output_type": "stream",
          "text": [
            "Quantized model accuracy is 96.8210% (Number of test samples=7172)\n"
          ],
          "name": "stdout"
        }
      ]
    },
    {
      "cell_type": "markdown",
      "metadata": {
        "id": "Cpo13Rixp6mW"
      },
      "source": [
        "# Quantization Aware Training"
      ]
    },
    {
      "cell_type": "code",
      "metadata": {
        "id": "tfShJGofqUrD",
        "outputId": "590b5172-e799-4e65-e8fc-39458c93bda7",
        "colab": {
          "base_uri": "https://localhost:8080/",
          "height": 178
        }
      },
      "source": [
        "pip install tensorflow_model_optimization"
      ],
      "execution_count": 44,
      "outputs": [
        {
          "output_type": "stream",
          "text": [
            "Collecting tensorflow_model_optimization\n",
            "\u001b[?25l  Downloading https://files.pythonhosted.org/packages/55/38/4fd48ea1bfcb0b6e36d949025200426fe9c3a8bfae029f0973d85518fa5a/tensorflow_model_optimization-0.5.0-py2.py3-none-any.whl (172kB)\n",
            "\r\u001b[K     |██                              | 10kB 26.4MB/s eta 0:00:01\r\u001b[K     |███▉                            | 20kB 3.2MB/s eta 0:00:01\r\u001b[K     |█████▊                          | 30kB 4.2MB/s eta 0:00:01\r\u001b[K     |███████▋                        | 40kB 4.5MB/s eta 0:00:01\r\u001b[K     |█████████▌                      | 51kB 3.7MB/s eta 0:00:01\r\u001b[K     |███████████▍                    | 61kB 4.1MB/s eta 0:00:01\r\u001b[K     |█████████████▎                  | 71kB 4.5MB/s eta 0:00:01\r\u001b[K     |███████████████▏                | 81kB 4.9MB/s eta 0:00:01\r\u001b[K     |█████████████████               | 92kB 5.1MB/s eta 0:00:01\r\u001b[K     |███████████████████             | 102kB 5.0MB/s eta 0:00:01\r\u001b[K     |████████████████████▉           | 112kB 5.0MB/s eta 0:00:01\r\u001b[K     |██████████████████████▊         | 122kB 5.0MB/s eta 0:00:01\r\u001b[K     |████████████████████████▊       | 133kB 5.0MB/s eta 0:00:01\r\u001b[K     |██████████████████████████▋     | 143kB 5.0MB/s eta 0:00:01\r\u001b[K     |████████████████████████████▌   | 153kB 5.0MB/s eta 0:00:01\r\u001b[K     |██████████████████████████████▍ | 163kB 5.0MB/s eta 0:00:01\r\u001b[K     |████████████████████████████████| 174kB 5.0MB/s \n",
            "\u001b[?25hRequirement already satisfied: six~=1.10 in /usr/local/lib/python3.6/dist-packages (from tensorflow_model_optimization) (1.15.0)\n",
            "Requirement already satisfied: numpy~=1.14 in /usr/local/lib/python3.6/dist-packages (from tensorflow_model_optimization) (1.18.5)\n",
            "Requirement already satisfied: dm-tree~=0.1.1 in /usr/local/lib/python3.6/dist-packages (from tensorflow_model_optimization) (0.1.5)\n",
            "Installing collected packages: tensorflow-model-optimization\n",
            "Successfully installed tensorflow-model-optimization-0.5.0\n"
          ],
          "name": "stdout"
        }
      ]
    },
    {
      "cell_type": "code",
      "metadata": {
        "id": "IOhafPASkE_D",
        "outputId": "7e253031-7792-411e-a51f-1f62f6ec8d30",
        "colab": {
          "base_uri": "https://localhost:8080/",
          "height": 545
        }
      },
      "source": [
        "import tensorflow_model_optimization as tfmot\n",
        "\n",
        "quantize_model = tfmot.quantization.keras.quantize_model\n",
        "\n",
        "# q_aware stands for for quantization aware.\n",
        "q_aware_model = quantize_model(model)\n",
        "\n",
        "# `quantize_model` requires a recompile.\n",
        "q_aware_model.compile(optimizer='adam',\n",
        "              loss=tf.keras.losses.SparseCategoricalCrossentropy(from_logits=True),\n",
        "              metrics=['accuracy'])\n",
        "\n",
        "q_aware_model.summary()"
      ],
      "execution_count": 45,
      "outputs": [
        {
          "output_type": "stream",
          "text": [
            "Model: \"sequential\"\n",
            "_________________________________________________________________\n",
            "Layer (type)                 Output Shape              Param #   \n",
            "=================================================================\n",
            "quantize_layer (QuantizeLaye (None, 28, 28, 1)         3         \n",
            "_________________________________________________________________\n",
            "quant_conv2d (QuantizeWrappe (None, 28, 28, 20)        243       \n",
            "_________________________________________________________________\n",
            "quant_max_pooling2d (Quantiz (None, 14, 14, 20)        1         \n",
            "_________________________________________________________________\n",
            "quant_conv2d_1 (QuantizeWrap (None, 14, 14, 40)        7323      \n",
            "_________________________________________________________________\n",
            "quant_max_pooling2d_1 (Quant (None, 7, 7, 40)          1         \n",
            "_________________________________________________________________\n",
            "quant_conv2d_2 (QuantizeWrap (None, 7, 7, 80)          29043     \n",
            "_________________________________________________________________\n",
            "quant_max_pooling2d_2 (Quant (None, 3, 3, 80)          1         \n",
            "_________________________________________________________________\n",
            "quant_flatten (QuantizeWrapp (None, 720)               1         \n",
            "_________________________________________________________________\n",
            "quant_dense (QuantizeWrapper (None, 500)               360505    \n",
            "_________________________________________________________________\n",
            "quant_dropout (QuantizeWrapp (None, 500)               1         \n",
            "_________________________________________________________________\n",
            "quant_dense_1 (QuantizeWrapp (None, 25)                12530     \n",
            "=================================================================\n",
            "Total params: 409,652\n",
            "Trainable params: 409,345\n",
            "Non-trainable params: 307\n",
            "_________________________________________________________________\n"
          ],
          "name": "stdout"
        }
      ]
    },
    {
      "cell_type": "code",
      "metadata": {
        "id": "Y1oX87eFqRxW",
        "outputId": "19f335de-6e1c-4421-a987-bcd4c1d96a46",
        "colab": {
          "base_uri": "https://localhost:8080/",
          "height": 211
        }
      },
      "source": [
        "q_aware_model.fit(x_train, y_train,\n",
        "                  batch_size=128, epochs=5, validation_data=(x_test, y_test))"
      ],
      "execution_count": 50,
      "outputs": [
        {
          "output_type": "stream",
          "text": [
            "Epoch 1/5\n",
            "215/215 [==============================] - 2s 11ms/step - loss: 2.2856 - accuracy: 0.9999 - val_loss: 2.3239 - val_accuracy: 0.9619\n",
            "Epoch 2/5\n",
            "215/215 [==============================] - 2s 10ms/step - loss: 2.2862 - accuracy: 0.9993 - val_loss: 2.3201 - val_accuracy: 0.9658\n",
            "Epoch 3/5\n",
            "215/215 [==============================] - 2s 10ms/step - loss: 2.2885 - accuracy: 0.9971 - val_loss: 2.3146 - val_accuracy: 0.9713\n",
            "Epoch 4/5\n",
            "215/215 [==============================] - 2s 10ms/step - loss: 2.2865 - accuracy: 0.9990 - val_loss: 2.3183 - val_accuracy: 0.9681\n",
            "Epoch 5/5\n",
            "215/215 [==============================] - 2s 10ms/step - loss: 2.2859 - accuracy: 0.9996 - val_loss: 2.3203 - val_accuracy: 0.9653\n"
          ],
          "name": "stdout"
        },
        {
          "output_type": "execute_result",
          "data": {
            "text/plain": [
              "<tensorflow.python.keras.callbacks.History at 0x7f8f0090ffd0>"
            ]
          },
          "metadata": {
            "tags": []
          },
          "execution_count": 50
        }
      ]
    },
    {
      "cell_type": "code",
      "metadata": {
        "id": "45KWOoYQrfZB"
      },
      "source": [
        "_, baseline_model_accuracy = model.evaluate(\n",
        "    x_test, y_test, verbose=0)\n",
        "\n",
        "_, q_aware_model_accuracy = q_aware_model.evaluate(\n",
        "   x_test, y_test, verbose=0)\n",
        "\n"
      ],
      "execution_count": 108,
      "outputs": []
    },
    {
      "cell_type": "code",
      "metadata": {
        "id": "I17aEm0urAgm",
        "outputId": "f890cdb5-f549-4cc6-a16a-ceefb976bc5e",
        "colab": {
          "base_uri": "https://localhost:8080/",
          "height": 52
        }
      },
      "source": [
        "print('Baseline Test Accuracy:', baseline_model_accuracy*100)\n",
        "print('Quantized Aware Test Accuracy:', q_aware_model_accuracy*100)"
      ],
      "execution_count": 110,
      "outputs": [
        {
          "output_type": "stream",
          "text": [
            "Baseline Test Accuracy: 96.89068794250488\n",
            "Quantized Aware Test Accuracy: 96.52816653251648\n"
          ],
          "name": "stdout"
        }
      ]
    },
    {
      "cell_type": "code",
      "metadata": {
        "id": "bRiElkxM85lb"
      },
      "source": [
        ""
      ],
      "execution_count": null,
      "outputs": []
    }
  ]
}