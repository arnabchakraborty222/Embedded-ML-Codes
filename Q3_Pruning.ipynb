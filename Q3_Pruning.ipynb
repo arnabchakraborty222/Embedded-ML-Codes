{
  "nbformat": 4,
  "nbformat_minor": 0,
  "metadata": {
    "colab": {
      "name": "Q3_Pruning.ipynb",
      "provenance": [],
      "collapsed_sections": []
    },
    "kernelspec": {
      "name": "python3",
      "display_name": "Python 3"
    },
    "accelerator": "GPU"
  },
  "cells": [
    {
      "cell_type": "code",
      "metadata": {
        "id": "1qXsT7YkEzrn",
        "outputId": "54009538-a528-4328-e512-605bdf5d7e43",
        "colab": {
          "base_uri": "https://localhost:8080/"
        }
      },
      "source": [
        "pip install tensorflow_model_optimization"
      ],
      "execution_count": 1,
      "outputs": [
        {
          "output_type": "stream",
          "text": [
            "Requirement already satisfied: tensorflow_model_optimization in /usr/local/lib/python3.6/dist-packages (0.5.0)\n",
            "Requirement already satisfied: six~=1.10 in /usr/local/lib/python3.6/dist-packages (from tensorflow_model_optimization) (1.15.0)\n",
            "Requirement already satisfied: numpy~=1.14 in /usr/local/lib/python3.6/dist-packages (from tensorflow_model_optimization) (1.18.5)\n",
            "Requirement already satisfied: dm-tree~=0.1.1 in /usr/local/lib/python3.6/dist-packages (from tensorflow_model_optimization) (0.1.5)\n"
          ],
          "name": "stdout"
        }
      ]
    },
    {
      "cell_type": "code",
      "metadata": {
        "id": "nG0R9kZrZ0fT"
      },
      "source": [
        "import pandas as pd\n",
        "import numpy as np\n",
        "import tensorflow as tf\n",
        "from tensorflow import keras\n",
        "import matplotlib.pyplot as plt\n",
        "import tempfile\n",
        "from tensorflow_model_optimization.sparsity import keras as sparsity\n",
        "import zipfile\n",
        "import os\n"
      ],
      "execution_count": 2,
      "outputs": []
    },
    {
      "cell_type": "code",
      "metadata": {
        "id": "6fmVe7wkaXfP"
      },
      "source": [
        "train_pd = pd.read_csv('sign_mnist_train.csv')\n",
        "\n",
        "test_pd = pd.read_csv('sign_mnist_test.csv')"
      ],
      "execution_count": 3,
      "outputs": []
    },
    {
      "cell_type": "code",
      "metadata": {
        "id": "A6PZ2zqcad0g",
        "outputId": "9c4bae03-d3d7-4ff0-827e-bcc610979f35",
        "colab": {
          "base_uri": "https://localhost:8080/"
        }
      },
      "source": [
        "train_pd.shape, test_pd.shape"
      ],
      "execution_count": 4,
      "outputs": [
        {
          "output_type": "execute_result",
          "data": {
            "text/plain": [
              "((27455, 785), (7172, 785))"
            ]
          },
          "metadata": {
            "tags": []
          },
          "execution_count": 4
        }
      ]
    },
    {
      "cell_type": "code",
      "metadata": {
        "id": "7ZGRSVlyagqt"
      },
      "source": [
        "x_train = train_pd.drop(['label'], axis=1).values\n",
        "y_train = train_pd['label'].values"
      ],
      "execution_count": 5,
      "outputs": []
    },
    {
      "cell_type": "code",
      "metadata": {
        "id": "9wkDehPOajU_",
        "outputId": "e7abeb47-8c37-4ad1-f559-65a42705b07e",
        "colab": {
          "base_uri": "https://localhost:8080/"
        }
      },
      "source": [
        "x_train.shape, y_train.shape"
      ],
      "execution_count": 6,
      "outputs": [
        {
          "output_type": "execute_result",
          "data": {
            "text/plain": [
              "((27455, 784), (27455,))"
            ]
          },
          "metadata": {
            "tags": []
          },
          "execution_count": 6
        }
      ]
    },
    {
      "cell_type": "code",
      "metadata": {
        "id": "7_aIjRg6akF7"
      },
      "source": [
        "x_test = test_pd.drop(['label'], axis=1).values\n",
        "y_test = test_pd['label'].values"
      ],
      "execution_count": 7,
      "outputs": []
    },
    {
      "cell_type": "code",
      "metadata": {
        "id": "kihD00R0amQm",
        "outputId": "a6489c4a-0d1c-4d86-a226-eb3536afaa3f",
        "colab": {
          "base_uri": "https://localhost:8080/"
        }
      },
      "source": [
        "x_test.shape, y_test.shape"
      ],
      "execution_count": 8,
      "outputs": [
        {
          "output_type": "execute_result",
          "data": {
            "text/plain": [
              "((7172, 784), (7172,))"
            ]
          },
          "metadata": {
            "tags": []
          },
          "execution_count": 8
        }
      ]
    },
    {
      "cell_type": "code",
      "metadata": {
        "id": "y12mma9Yapp7"
      },
      "source": [
        "x_train = x_train.reshape(x_train.shape[0], 28, 28, 1)\n",
        "\n",
        "x_test = x_test.reshape(x_test.shape[0], 28, 28, 1)\n",
        "# Normalize the input\n",
        "\n",
        "x_train = x_train/ 255\n",
        "\n",
        "x_test= x_test/ 255\n",
        "\n",
        "batch_size= 128"
      ],
      "execution_count": 9,
      "outputs": []
    },
    {
      "cell_type": "code",
      "metadata": {
        "id": "i5m-CxVnauWH"
      },
      "source": [
        "#Build the model\n",
        "\n",
        "model = keras.Sequential([\n",
        "    keras.layers.Conv2D(20, kernel_size=(3,3), padding='same', activation='relu', input_shape=(28,28,1)),\n",
        "    keras.layers.MaxPooling2D(pool_size=(2,2)),\n",
        "    keras.layers.Conv2D(40, kernel_size=(3,3), padding='same', activation='relu'),\n",
        "    keras.layers.MaxPooling2D(pool_size=(2,2)),\n",
        "    keras.layers.Conv2D(80, kernel_size=(3,3), padding='same', activation='relu'),\n",
        "    keras.layers.MaxPooling2D(pool_size=(2,2)),\n",
        "    keras.layers.Flatten(),\n",
        "    keras.layers.Dense(500, activation='relu'),\n",
        "    keras.layers.Dropout(0.4),\n",
        "    keras.layers.Dense(25, activation='softmax')\n",
        "])"
      ],
      "execution_count": 10,
      "outputs": []
    },
    {
      "cell_type": "code",
      "metadata": {
        "id": "o1sUJDOxawSo",
        "outputId": "c4ad3b57-475a-4437-c2da-b1d5324a0153",
        "colab": {
          "base_uri": "https://localhost:8080/"
        }
      },
      "source": [
        "model.compile(optimizer='adam',\n",
        "              loss=tf.keras.losses.SparseCategoricalCrossentropy(from_logits=True),\n",
        "              metrics=['accuracy'])\n",
        "\n",
        "history = model.fit(x_train, y_train, epochs=30, batch_size= batch_size, validation_data=(x_test, y_test))"
      ],
      "execution_count": 11,
      "outputs": [
        {
          "output_type": "stream",
          "text": [
            "Epoch 1/30\n",
            "215/215 [==============================] - 2s 7ms/step - loss: 3.0700 - accuracy: 0.2171 - val_loss: 2.9525 - val_accuracy: 0.3462\n",
            "Epoch 2/30\n",
            "215/215 [==============================] - 1s 6ms/step - loss: 2.7537 - accuracy: 0.5439 - val_loss: 2.7255 - val_accuracy: 0.5736\n",
            "Epoch 3/30\n",
            "215/215 [==============================] - 1s 6ms/step - loss: 2.5933 - accuracy: 0.7008 - val_loss: 2.6435 - val_accuracy: 0.6488\n",
            "Epoch 4/30\n",
            "215/215 [==============================] - 1s 6ms/step - loss: 2.5497 - accuracy: 0.7398 - val_loss: 2.6251 - val_accuracy: 0.6659\n",
            "Epoch 5/30\n",
            "215/215 [==============================] - 1s 6ms/step - loss: 2.5382 - accuracy: 0.7490 - val_loss: 2.6270 - val_accuracy: 0.6573\n",
            "Epoch 6/30\n",
            "215/215 [==============================] - 1s 6ms/step - loss: 2.5351 - accuracy: 0.7508 - val_loss: 2.6186 - val_accuracy: 0.6708\n",
            "Epoch 7/30\n",
            "215/215 [==============================] - 1s 6ms/step - loss: 2.4929 - accuracy: 0.7963 - val_loss: 2.5594 - val_accuracy: 0.7291\n",
            "Epoch 8/30\n",
            "215/215 [==============================] - 1s 6ms/step - loss: 2.4570 - accuracy: 0.8302 - val_loss: 2.5537 - val_accuracy: 0.7383\n",
            "Epoch 9/30\n",
            "215/215 [==============================] - 1s 6ms/step - loss: 2.4499 - accuracy: 0.8365 - val_loss: 2.5466 - val_accuracy: 0.7405\n",
            "Epoch 10/30\n",
            "215/215 [==============================] - 1s 6ms/step - loss: 2.4441 - accuracy: 0.8420 - val_loss: 2.5270 - val_accuracy: 0.7620\n",
            "Epoch 11/30\n",
            "215/215 [==============================] - 1s 6ms/step - loss: 2.4156 - accuracy: 0.8716 - val_loss: 2.5161 - val_accuracy: 0.7731\n",
            "Epoch 12/30\n",
            "215/215 [==============================] - 1s 6ms/step - loss: 2.4089 - accuracy: 0.8772 - val_loss: 2.4946 - val_accuracy: 0.7927\n",
            "Epoch 13/30\n",
            "215/215 [==============================] - 1s 6ms/step - loss: 2.4071 - accuracy: 0.8784 - val_loss: 2.4932 - val_accuracy: 0.7941\n",
            "Epoch 14/30\n",
            "215/215 [==============================] - 1s 6ms/step - loss: 2.4070 - accuracy: 0.8783 - val_loss: 2.4914 - val_accuracy: 0.7957\n",
            "Epoch 15/30\n",
            "215/215 [==============================] - 1s 6ms/step - loss: 2.4070 - accuracy: 0.8782 - val_loss: 2.4956 - val_accuracy: 0.7899\n",
            "Epoch 16/30\n",
            "215/215 [==============================] - 1s 6ms/step - loss: 2.4085 - accuracy: 0.8772 - val_loss: 2.4985 - val_accuracy: 0.7889\n",
            "Epoch 17/30\n",
            "215/215 [==============================] - 1s 6ms/step - loss: 2.4075 - accuracy: 0.8779 - val_loss: 2.4942 - val_accuracy: 0.7946\n",
            "Epoch 18/30\n",
            "215/215 [==============================] - 1s 6ms/step - loss: 2.3771 - accuracy: 0.9088 - val_loss: 2.4369 - val_accuracy: 0.8509\n",
            "Epoch 19/30\n",
            "215/215 [==============================] - 1s 6ms/step - loss: 2.3722 - accuracy: 0.9138 - val_loss: 2.4364 - val_accuracy: 0.8489\n",
            "Epoch 20/30\n",
            "215/215 [==============================] - 1s 6ms/step - loss: 2.3710 - accuracy: 0.9146 - val_loss: 2.4388 - val_accuracy: 0.8486\n",
            "Epoch 21/30\n",
            "215/215 [==============================] - 1s 6ms/step - loss: 2.3721 - accuracy: 0.9136 - val_loss: 2.4395 - val_accuracy: 0.8468\n",
            "Epoch 22/30\n",
            "215/215 [==============================] - 1s 6ms/step - loss: 2.3711 - accuracy: 0.9143 - val_loss: 2.4449 - val_accuracy: 0.8402\n",
            "Epoch 23/30\n",
            "215/215 [==============================] - 1s 6ms/step - loss: 2.3706 - accuracy: 0.9149 - val_loss: 2.4242 - val_accuracy: 0.8645\n",
            "Epoch 24/30\n",
            "215/215 [==============================] - 1s 6ms/step - loss: 2.3436 - accuracy: 0.9423 - val_loss: 2.3796 - val_accuracy: 0.9062\n",
            "Epoch 25/30\n",
            "215/215 [==============================] - 1s 6ms/step - loss: 2.3387 - accuracy: 0.9470 - val_loss: 2.3850 - val_accuracy: 0.9037\n",
            "Epoch 26/30\n",
            "215/215 [==============================] - 1s 6ms/step - loss: 2.3379 - accuracy: 0.9477 - val_loss: 2.3728 - val_accuracy: 0.9142\n",
            "Epoch 27/30\n",
            "215/215 [==============================] - 1s 6ms/step - loss: 2.3373 - accuracy: 0.9483 - val_loss: 2.3717 - val_accuracy: 0.9151\n",
            "Epoch 28/30\n",
            "215/215 [==============================] - 1s 6ms/step - loss: 2.3383 - accuracy: 0.9475 - val_loss: 2.3853 - val_accuracy: 0.9016\n",
            "Epoch 29/30\n",
            "215/215 [==============================] - 1s 6ms/step - loss: 2.3361 - accuracy: 0.9493 - val_loss: 2.3759 - val_accuracy: 0.9099\n",
            "Epoch 30/30\n",
            "215/215 [==============================] - 1s 6ms/step - loss: 2.3351 - accuracy: 0.9505 - val_loss: 2.3718 - val_accuracy: 0.9149\n"
          ],
          "name": "stdout"
        }
      ]
    },
    {
      "cell_type": "code",
      "metadata": {
        "id": "zA7WAfVpaxAe",
        "outputId": "093ea548-0ea2-4304-e8a1-808794fe42d8",
        "colab": {
          "base_uri": "https://localhost:8080/"
        }
      },
      "source": [
        "loss, acc = model.evaluate(x_test, y_test)\n",
        "\n",
        "print('test loss: ', loss)\n",
        "print('test accuracy: ', acc* 100)"
      ],
      "execution_count": 12,
      "outputs": [
        {
          "output_type": "stream",
          "text": [
            "225/225 [==============================] - 0s 2ms/step - loss: 2.3718 - accuracy: 0.9149\n",
            "test loss:  2.3718225955963135\n",
            "test accuracy:  91.49470329284668\n"
          ],
          "name": "stdout"
        }
      ]
    },
    {
      "cell_type": "code",
      "metadata": {
        "id": "TA4rCG4ga0th",
        "outputId": "ba26db5a-ef0f-4431-c68b-4581732446d1",
        "colab": {
          "base_uri": "https://localhost:8080/",
          "height": 336
        }
      },
      "source": [
        "#Evaluate the Model\n",
        "plt.plot(history.history['accuracy'], label='accuracy')\n",
        "plt.plot(history.history['val_accuracy'], label = 'val_accuracy')\n",
        "plt.xlabel('Epoch')\n",
        "plt.ylabel('Accuracy')\n",
        "plt.ylim([0.5, 1])\n",
        "plt.legend(loc='lower right')\n",
        "test_loss, test_acc = model.evaluate(x_test, y_test, verbose=2)\n",
        "print('\\nTest accuracy:', test_acc*100)"
      ],
      "execution_count": 13,
      "outputs": [
        {
          "output_type": "stream",
          "text": [
            "225/225 - 0s - loss: 2.3718 - accuracy: 0.9149\n",
            "\n",
            "Test accuracy: 91.49470329284668\n"
          ],
          "name": "stdout"
        },
        {
          "output_type": "display_data",
          "data": {
            "image/png": "[encoded data removed]",
            "text/plain": [
              "<Figure size 432x288 with 1 Axes>"
            ]
          },
          "metadata": {
            "tags": [],
            "needs_background": "light"
          }
        }
      ]
    },
    {
      "cell_type": "code",
      "metadata": {
        "id": "XP6sIpesbDpe",
        "outputId": "4c699b66-9677-4f2d-f310-ec591ddd7523",
        "colab": {
          "base_uri": "https://localhost:8080/"
        }
      },
      "source": [
        "_, baseline_model_accuracy = model.evaluate(\n",
        "    x_test, y_test, verbose=0)\n",
        "\n",
        "print('Baseline test accuracy %:', baseline_model_accuracy * 100)\n",
        "\n",
        "_, keras_file = tempfile.mkstemp('.h5')\n",
        "tf.keras.models.save_model(model, keras_file, include_optimizer=False)\n",
        "print('Saved baseline model to:', keras_file)"
      ],
      "execution_count": 14,
      "outputs": [
        {
          "output_type": "stream",
          "text": [
            "Baseline test accuracy %: 91.49470329284668\n",
            "Saved baseline model to: /tmp/tmpu2oxn4in.h5\n"
          ],
          "name": "stdout"
        }
      ]
    },
    {
      "cell_type": "code",
      "metadata": {
        "id": "En7hVVeDbEsF",
        "outputId": "7b98db39-c565-4f8d-c22f-564e7c8d7f24",
        "colab": {
          "base_uri": "https://localhost:8080/"
        }
      },
      "source": [
        "import tensorflow_model_optimization as tfmot\n",
        "\n",
        "prune_low_magnitude = tfmot.sparsity.keras.prune_low_magnitude\n",
        "\n",
        "# Compute end step to finish pruning after 2 epochs.\n",
        "batch_size = 128\n",
        "epochs = 3\n",
        "validation_split = 0.1 # 10% of training set will be used for validation set. \n",
        "\n",
        "num_images = x_train.shape[0] * (1 - validation_split)\n",
        "end_step = np.ceil(num_images / batch_size).astype(np.int32) * epochs\n",
        "\n",
        "# Define model for pruning.\n",
        "pruning_params = {\n",
        "      'pruning_schedule': tfmot.sparsity.keras.PolynomialDecay(initial_sparsity=0.50,\n",
        "                                                               final_sparsity=0.80,\n",
        "                                                               begin_step=0,\n",
        "                                                               end_step=end_step)\n",
        "}\n",
        "\n",
        "model_for_pruning = prune_low_magnitude(model, **pruning_params)\n",
        "\n",
        "# `prune_low_magnitude` requires a recompile.\n",
        "model_for_pruning.compile(optimizer='adam',\n",
        "              loss=tf.keras.losses.SparseCategoricalCrossentropy(from_logits=True),\n",
        "              metrics=['accuracy'])\n",
        "\n",
        "model_for_pruning.summary()"
      ],
      "execution_count": 15,
      "outputs": [
        {
          "output_type": "stream",
          "text": [
            "WARNING:tensorflow:From /usr/local/lib/python3.6/dist-packages/tensorflow_model_optimization/python/core/sparsity/keras/pruning_wrapper.py:200: Layer.add_variable (from tensorflow.python.keras.engine.base_layer) is deprecated and will be removed in a future version.\n",
            "Instructions for updating:\n",
            "Please use `layer.add_weight` method instead.\n",
            "Model: \"sequential\"\n",
            "_________________________________________________________________\n",
            "Layer (type)                 Output Shape              Param #   \n",
            "=================================================================\n",
            "prune_low_magnitude_conv2d ( (None, 28, 28, 20)        382       \n",
            "_________________________________________________________________\n",
            "prune_low_magnitude_max_pool (None, 14, 14, 20)        1         \n",
            "_________________________________________________________________\n",
            "prune_low_magnitude_conv2d_1 (None, 14, 14, 40)        14442     \n",
            "_________________________________________________________________\n",
            "prune_low_magnitude_max_pool (None, 7, 7, 40)          1         \n",
            "_________________________________________________________________\n",
            "prune_low_magnitude_conv2d_2 (None, 7, 7, 80)          57682     \n",
            "_________________________________________________________________\n",
            "prune_low_magnitude_max_pool (None, 3, 3, 80)          1         \n",
            "_________________________________________________________________\n",
            "prune_low_magnitude_flatten  (None, 720)               1         \n",
            "_________________________________________________________________\n",
            "prune_low_magnitude_dense (P (None, 500)               720502    \n",
            "_________________________________________________________________\n",
            "prune_low_magnitude_dropout  (None, 500)               1         \n",
            "_________________________________________________________________\n",
            "prune_low_magnitude_dense_1  (None, 25)                25027     \n",
            "=================================================================\n",
            "Total params: 818,040\n",
            "Trainable params: 409,345\n",
            "Non-trainable params: 408,695\n",
            "_________________________________________________________________\n"
          ],
          "name": "stdout"
        }
      ]
    },
    {
      "cell_type": "code",
      "metadata": {
        "id": "nJCWRTTVbVwK",
        "outputId": "099677ce-6934-4a96-c428-50ebca1451a4",
        "colab": {
          "base_uri": "https://localhost:8080/"
        }
      },
      "source": [
        "logdir = tempfile.mkdtemp()\n",
        "\n",
        "callbacks = [\n",
        "  tfmot.sparsity.keras.UpdatePruningStep(),\n",
        "  tfmot.sparsity.keras.PruningSummaries(log_dir=logdir),\n",
        "]\n",
        "  \n",
        "model_for_pruning.fit(x_train, y_train,\n",
        "                  batch_size=batch_size, epochs=epochs, validation_split=validation_split,\n",
        "                  callbacks=callbacks)"
      ],
      "execution_count": 16,
      "outputs": [
        {
          "output_type": "stream",
          "text": [
            "Epoch 1/3\n",
            "  1/194 [..............................] - ETA: 0s - loss: 2.4872 - accuracy: 0.8125WARNING:tensorflow:From /usr/local/lib/python3.6/dist-packages/tensorflow/python/ops/summary_ops_v2.py:1277: stop (from tensorflow.python.eager.profiler) is deprecated and will be removed after 2020-07-01.\n",
            "Instructions for updating:\n",
            "use `tf.profiler.experimental.stop` instead.\n",
            "  2/194 [..............................] - ETA: 4s - loss: 2.4601 - accuracy: 0.8359WARNING:tensorflow:Callbacks method `on_train_batch_end` is slow compared to the batch time (batch time: 0.0098s vs `on_train_batch_end` time: 0.0371s). Check your callbacks.\n",
            "194/194 [==============================] - 3s 13ms/step - loss: 2.3366 - accuracy: 0.9506 - val_loss: 2.3276 - val_accuracy: 0.9574\n",
            "Epoch 2/3\n",
            "194/194 [==============================] - 2s 12ms/step - loss: 2.3950 - accuracy: 0.9025 - val_loss: 2.3292 - val_accuracy: 0.9567\n",
            "Epoch 3/3\n",
            "194/194 [==============================] - 2s 12ms/step - loss: 2.3526 - accuracy: 0.9416 - val_loss: 2.3285 - val_accuracy: 0.9570\n"
          ],
          "name": "stdout"
        },
        {
          "output_type": "execute_result",
          "data": {
            "text/plain": [
              "<tensorflow.python.keras.callbacks.History at 0x7fbc26dee2b0>"
            ]
          },
          "metadata": {
            "tags": []
          },
          "execution_count": 16
        }
      ]
    },
    {
      "cell_type": "code",
      "metadata": {
        "id": "D1Z3db6GbbM4",
        "outputId": "1640bf08-c012-48e4-8787-49b0d59dcf4a",
        "colab": {
          "base_uri": "https://localhost:8080/"
        }
      },
      "source": [
        "_, model_for_pruning_accuracy = model_for_pruning.evaluate(\n",
        "   x_test, y_test, verbose=0)\n",
        "\n",
        "print('Baseline test accuracy:', baseline_model_accuracy * 100) \n",
        "print('Pruned test accuracy:', model_for_pruning_accuracy *100)"
      ],
      "execution_count": 17,
      "outputs": [
        {
          "output_type": "stream",
          "text": [
            "Baseline test accuracy: 91.49470329284668\n",
            "Pruned test accuracy: 91.94087982177734\n"
          ],
          "name": "stdout"
        }
      ]
    },
    {
      "cell_type": "code",
      "metadata": {
        "id": "fhHzeQozbowR",
        "outputId": "4fd7244b-1a5b-4375-cec2-406fc71db14a",
        "colab": {
          "base_uri": "https://localhost:8080/"
        }
      },
      "source": [
        "model_for_export = tfmot.sparsity.keras.strip_pruning(model_for_pruning)\n",
        "\n",
        "_, pruned_keras_file = tempfile.mkstemp('.h5')\n",
        "tf.keras.models.save_model(model_for_export, pruned_keras_file, include_optimizer=False)\n",
        "print('Saved pruned Keras model to:', pruned_keras_file)"
      ],
      "execution_count": 18,
      "outputs": [
        {
          "output_type": "stream",
          "text": [
            "Saved pruned Keras model to: /tmp/tmp7mhsycft.h5\n"
          ],
          "name": "stdout"
        }
      ]
    },
    {
      "cell_type": "code",
      "metadata": {
        "id": "EAncFVNYd_Ey",
        "outputId": "b553a676-b5d7-4c6f-e193-7cbf76ac90e6",
        "colab": {
          "base_uri": "https://localhost:8080/"
        }
      },
      "source": [
        "converter = tf.lite.TFLiteConverter.from_keras_model(model_for_export)\n",
        "pruned_tflite_model = converter.convert()\n",
        "\n",
        "_, pruned_tflite_file = tempfile.mkstemp('.tflite')\n",
        "\n",
        "with open(pruned_tflite_file, 'wb') as f:\n",
        "  f.write(pruned_tflite_model)\n",
        "\n",
        "print('Saved pruned TFLite model to:', pruned_tflite_file)"
      ],
      "execution_count": 19,
      "outputs": [
        {
          "output_type": "stream",
          "text": [
            "WARNING:tensorflow:From /usr/local/lib/python3.6/dist-packages/tensorflow/python/training/tracking/tracking.py:111: Model.state_updates (from tensorflow.python.keras.engine.training) is deprecated and will be removed in a future version.\n",
            "Instructions for updating:\n",
            "This property should not be used in TensorFlow 2.0, as updates are applied automatically.\n",
            "WARNING:tensorflow:From /usr/local/lib/python3.6/dist-packages/tensorflow/python/training/tracking/tracking.py:111: Layer.updates (from tensorflow.python.keras.engine.base_layer) is deprecated and will be removed in a future version.\n",
            "Instructions for updating:\n",
            "This property should not be used in TensorFlow 2.0, as updates are applied automatically.\n",
            "INFO:tensorflow:Assets written to: /tmp/tmpg8k1wc_d/assets\n",
            "Saved pruned TFLite model to: /tmp/tmpp5hlgxci.tflite\n"
          ],
          "name": "stdout"
        }
      ]
    },
    {
      "cell_type": "code",
      "metadata": {
        "id": "ce4_1ePweM4-"
      },
      "source": [
        "def get_gzipped_model_size(file):\n",
        "  # Returns size of gzipped model, in bytes.\n",
        "  import os\n",
        "  import zipfile\n",
        "\n",
        "  _, zipped_file = tempfile.mkstemp('.zip')\n",
        "  with zipfile.ZipFile(zipped_file, 'w', compression=zipfile.ZIP_DEFLATED) as f:\n",
        "    f.write(file)\n",
        "\n",
        "  return os.path.getsize(zipped_file)"
      ],
      "execution_count": 20,
      "outputs": []
    },
    {
      "cell_type": "code",
      "metadata": {
        "id": "LUPr9s8MefZz",
        "outputId": "d142f703-8a65-4c79-8338-a83906d2899a",
        "colab": {
          "base_uri": "https://localhost:8080/"
        }
      },
      "source": [
        "print(\"Size of gzipped baseline Keras model: %.2f bytes\" % (get_gzipped_model_size(keras_file)))\n",
        "print(\"Size of gzipped pruned Keras model: %.2f bytes\" % (get_gzipped_model_size(pruned_keras_file)))\n",
        "print(\"Size of gzipped pruned TFlite model: %.2f bytes\" % (get_gzipped_model_size(pruned_tflite_file)))"
      ],
      "execution_count": 21,
      "outputs": [
        {
          "output_type": "stream",
          "text": [
            "Size of gzipped baseline Keras model: 1522188.00 bytes\n",
            "Size of gzipped pruned Keras model: 490933.00 bytes\n",
            "Size of gzipped pruned TFlite model: 485267.00 bytes\n"
          ],
          "name": "stdout"
        }
      ]
    },
    {
      "cell_type": "code",
      "metadata": {
        "id": "t_UcaW7GeiQD",
        "outputId": "8db48ce9-a223-43ed-c2d3-f7094eb5ba0b",
        "colab": {
          "base_uri": "https://localhost:8080/"
        }
      },
      "source": [
        "converter = tf.lite.TFLiteConverter.from_keras_model(model_for_export)\n",
        "converter.optimizations = [tf.lite.Optimize.DEFAULT]\n",
        "quantized_and_pruned_tflite_model = converter.convert()\n",
        "\n",
        "_, quantized_and_pruned_tflite_file = tempfile.mkstemp('.tflite')\n",
        "\n",
        "with open(quantized_and_pruned_tflite_file, 'wb') as f:\n",
        "  f.write(quantized_and_pruned_tflite_model)\n",
        "\n",
        "print('Saved quantized and pruned TFLite model to:', quantized_and_pruned_tflite_file)\n",
        "\n",
        "print(\"Size of gzipped baseline Keras model: %.2f bytes\" % (get_gzipped_model_size(keras_file)))\n",
        "print(\"Size of gzipped pruned and quantized TFlite model: %.2f bytes\" % (get_gzipped_model_size(quantized_and_pruned_tflite_file)))"
      ],
      "execution_count": 22,
      "outputs": [
        {
          "output_type": "stream",
          "text": [
            "INFO:tensorflow:Assets written to: /tmp/tmp_zdrxqa2/assets\n"
          ],
          "name": "stdout"
        },
        {
          "output_type": "stream",
          "text": [
            "INFO:tensorflow:Assets written to: /tmp/tmp_zdrxqa2/assets\n"
          ],
          "name": "stderr"
        },
        {
          "output_type": "stream",
          "text": [
            "Saved quantized and pruned TFLite model to: /tmp/tmp8yzqqqg2.tflite\n",
            "Size of gzipped baseline Keras model: 1522188.00 bytes\n",
            "Size of gzipped pruned and quantized TFlite model: 135977.00 bytes\n"
          ],
          "name": "stdout"
        }
      ]
    },
    {
      "cell_type": "code",
      "metadata": {
        "id": "MSLy-MXDevPb"
      },
      "source": [
        "import numpy as np\n",
        "\n",
        "def evaluate_model(interpreter):\n",
        "  input_index = interpreter.get_input_details()[0][\"index\"]\n",
        "  output_index = interpreter.get_output_details()[0][\"index\"]\n",
        "\n",
        "  # Run predictions on ever y image in the \"test\" dataset.\n",
        "  prediction_digits = []\n",
        "  for i, test_image in enumerate(x_test):\n",
        "    if i % 1000 == 0:\n",
        "      print('Evaluated on {n} results so far.'.format(n=i))\n",
        "    # Pre-processing: add batch dimension and convert to float32 to match with\n",
        "    # the model's input data format.\n",
        "    test_image = np.expand_dims(test_image, axis=0).astype(np.float32)\n",
        "    interpreter.set_tensor(input_index, test_image)\n",
        "\n",
        "    # Run inference.\n",
        "    interpreter.invoke()\n",
        "\n",
        "    # Post-processing: remove batch dimension and find the digit with highest\n",
        "    # probability.\n",
        "    output = interpreter.tensor(output_index)\n",
        "    digit = np.argmax(output()[0])\n",
        "    prediction_digits.append(digit)\n",
        "\n",
        "  print('\\n')\n",
        "  # Compare prediction results with ground truth labels to calculate accuracy.\n",
        "  prediction_digits = np.array(prediction_digits)\n",
        "  accuracy = (prediction_digits == y_test).mean()\n",
        "  return accuracy"
      ],
      "execution_count": 23,
      "outputs": []
    },
    {
      "cell_type": "code",
      "metadata": {
        "id": "2UwA4Xg0fPFw",
        "outputId": "71ece87d-d86a-4d33-e00c-c0f289f3c0f6",
        "colab": {
          "base_uri": "https://localhost:8080/"
        }
      },
      "source": [
        "interpreter = tf.lite.Interpreter(model_content=quantized_and_pruned_tflite_model)\n",
        "interpreter.allocate_tensors()\n",
        "\n",
        "test_accuracy = evaluate_model(interpreter)\n",
        "\n",
        "\n",
        "print('Pruned TFLite test accuracy:', model_for_pruning_accuracy * 100)\n",
        "print('Pruned and quantized TFLite test_accuracy %:', test_accuracy * 100)\n"
      ],
      "execution_count": 26,
      "outputs": [
        {
          "output_type": "stream",
          "text": [
            "Evaluated on 0 results so far.\n",
            "Evaluated on 1000 results so far.\n",
            "Evaluated on 2000 results so far.\n",
            "Evaluated on 3000 results so far.\n",
            "Evaluated on 4000 results so far.\n",
            "Evaluated on 5000 results so far.\n",
            "Evaluated on 6000 results so far.\n",
            "Evaluated on 7000 results so far.\n",
            "\n",
            "\n",
            "Pruned TFLite test accuracy: 91.94087982177734\n",
            "Pruned and quantized TFLite test_accuracy %: 91.99665365309538\n"
          ],
          "name": "stdout"
        }
      ]
    },
    {
      "cell_type": "code",
      "metadata": {
        "id": "f5HfLhPdfSlv"
      },
      "source": [
        ""
      ],
      "execution_count": null,
      "outputs": []
    }
  ]
}