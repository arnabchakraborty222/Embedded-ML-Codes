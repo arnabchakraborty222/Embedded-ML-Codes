{
  "nbformat": 4,
  "nbformat_minor": 0,
  "metadata": {
    "kernelspec": {
      "display_name": "Python 3",
      "language": "python",
      "name": "python3"
    },
    "language_info": {
      "codemirror_mode": {
        "name": "ipython",
        "version": 3
      },
      "file_extension": ".py",
      "mimetype": "text/x-python",
      "name": "python",
      "nbconvert_exporter": "python",
      "pygments_lexer": "ipython3",
      "version": "3.8.3"
    },
    "colab": {
      "name": "time-series_Q2.ipynb",
      "provenance": [],
      "collapsed_sections": []
    },
    "accelerator": "GPU"
  },
  "cells": [
    {
      "cell_type": "code",
      "metadata": {
        "id": "_iPERIDZDdgi"
      },
      "source": [
        "import numpy as np\n",
        "import pandas as pd\n",
        "from datetime import datetime\n",
        "import matplotlib.pyplot as plt\n",
        "import time\n",
        "import tensorflow as tf\n",
        "%matplotlib inline"
      ],
      "execution_count": 1,
      "outputs": []
    },
    {
      "cell_type": "code",
      "metadata": {
        "id": "52wBCaSbDdgj"
      },
      "source": [
        "epochs = 5\n",
        "batch_size = 50"
      ],
      "execution_count": 2,
      "outputs": []
    },
    {
      "cell_type": "code",
      "metadata": {
        "id": "qV982dA8Ddgj"
      },
      "source": [
        "# Each training data point will be length 100-1,\n",
        "# since the last value in each sequence is the label\n",
        "sequence_length = 100"
      ],
      "execution_count": 3,
      "outputs": []
    },
    {
      "cell_type": "code",
      "metadata": {
        "id": "h6aC10M9Ddgj"
      },
      "source": [
        "def generate_model():\n",
        "#Enter your model code here\n",
        "  model = tf.keras.models.Sequential([\n",
        "  tf.keras.layers.LSTM(55, activation='tanh', input_shape=(99, 1)),\n",
        "  tf.keras.layers.Dense(1),\n",
        "  ])\n",
        " \n",
        "  model.compile(optimizer='adam', loss='mse')\n",
        "  model.summary()\n",
        " \n",
        "  return model\n",
        "\n",
        " "
      ],
      "execution_count": 4,
      "outputs": []
    },
    {
      "cell_type": "code",
      "metadata": {
        "id": "XU1GCro2Ddgj"
      },
      "source": [
        "def normalize(result):\n",
        "    result_mean = result.mean()\n",
        "    result_std = result.std()\n",
        "    result -= result_mean\n",
        "    result /= result_std\n",
        "    return result, result_mean"
      ],
      "execution_count": 5,
      "outputs": []
    },
    {
      "cell_type": "code",
      "metadata": {
        "id": "EZRzOwEJDdgj"
      },
      "source": [
        "def prepare_data(data, train_start, train_end, test_start, test_end):\n",
        "    print(\"Length of Data\", len(data))\n",
        "\n",
        "    # training data\n",
        "    print(\"Creating training data...\")\n",
        "\n",
        "    result = []\n",
        "    for index in range(train_start, train_end - sequence_length):\n",
        "        result.append(data[index: index + sequence_length])\n",
        "    result = np.array(result)\n",
        "    result, result_mean = normalize(result)\n",
        "\n",
        "    print(\"Training data shape  : \", result.shape)\n",
        "\n",
        "    train = result[train_start:train_end, :]\n",
        "    np.random.shuffle(train)\n",
        "    X_train = train[:, :-1]\n",
        "    y_train = train[:, -1]\n",
        "\n",
        "    # test data\n",
        "    print(\"Creating test data...\")\n",
        "\n",
        "    result = []\n",
        "    for index in range(test_start, test_end - sequence_length):\n",
        "        result.append(data[index: index + sequence_length])\n",
        "    result = np.array(result)\n",
        "    result, result_mean = normalize(result)\n",
        "\n",
        "    print(\"Test data shape  : {}\".format(result.shape))\n",
        "\n",
        "    X_test = result[:, :-1]\n",
        "    y_test = result[:, -1]\n",
        "\n",
        "    print(\"Shape X_train\", np.shape(X_train))\n",
        "    print(\"Shape X_test\", np.shape(X_test))\n",
        "\n",
        "    X_train = np.reshape(X_train, (X_train.shape[0], X_train.shape[1], 1))\n",
        "    X_test = np.reshape(X_test, (X_test.shape[0], X_test.shape[1], 1))\n",
        "\n",
        "    return X_train, y_train, X_test, y_test"
      ],
      "execution_count": 6,
      "outputs": []
    },
    {
      "cell_type": "code",
      "metadata": {
        "id": "lgwIOkjkDdgj"
      },
      "source": [
        "def run(model=None, data=None):\n",
        "    global_start_time = time.time()\n",
        "\n",
        "    print('Loading data... ')\n",
        "    data_b = pd.read_csv('iot-util.csv',\n",
        "                         parse_dates=[0], infer_datetime_format=True)\n",
        "    data = data_b['cpu'].to_numpy()\n",
        "\n",
        "    # train on first 500 samples and test on last 160 samples (test set has anomaly)\n",
        "    X_train, y_train, X_test, y_test = prepare_data(data, 0, 600, 400, 660)\n",
        "    \n",
        "    if model is None:\n",
        "        model = generate_model()\n",
        "\n",
        "    try:\n",
        "        print(\"Training...\")\n",
        "        model.fit(\n",
        "                X_train, y_train,\n",
        "                batch_size=batch_size, epochs=epochs, validation_split=0.05)\n",
        "        print(\"Predicting...\")\n",
        "        predicted = model.predict(X_test, verbose=1)\n",
        "        print(\"Reshaping predicted\")\n",
        "        predicted = np.reshape(predicted, (predicted.size,))\n",
        "    except KeyboardInterrupt:\n",
        "        print(\"prediction exception\")\n",
        "        print('Training duration:{}'.format(time.time() - global_start_time))\n",
        "        return model, y_test, 0\n",
        "\n",
        "    try:\n",
        "        plt.figure(figsize=(20,8))\n",
        "        plt.plot(y_test[:len(y_test)], 'b', label='Observed')\n",
        "        plt.plot(predicted[:len(y_test)], 'g', label='Predicted')\n",
        "        plt.plot(((y_test - predicted) ** 2), 'r', label='Root-mean-square deviation')\n",
        "        plt.legend()\n",
        "        plt.show()\n",
        "    except Exception as e:\n",
        "        print(\"plotting exception\")\n",
        "        print(str(e))\n",
        "    print('Training duration:{}'.format(time.time() - global_start_time))\n",
        "\n",
        "    return model, y_test, predicted"
      ],
      "execution_count": 7,
      "outputs": []
    },
    {
      "cell_type": "code",
      "metadata": {
        "colab": {
          "base_uri": "https://localhost:8080/",
          "height": 1000
        },
        "id": "eqTzFjnkDdgj",
        "outputId": "dfefe3af-7deb-4429-c08d-9d398c8bd77c"
      },
      "source": [
        "model, y_test, predicted = run()"
      ],
      "execution_count": 8,
      "outputs": [
        {
          "output_type": "stream",
          "text": [
            "Loading data... \n",
            "Length of Data 660\n",
            "Creating training data...\n",
            "Training data shape  :  (500, 100)\n",
            "Creating test data...\n",
            "Test data shape  : (160, 100)\n",
            "Shape X_train (500, 99)\n",
            "Shape X_test (160, 99)\n",
            "Model: \"sequential\"\n",
            "_________________________________________________________________\n",
            "Layer (type)                 Output Shape              Param #   \n",
            "=================================================================\n",
            "lstm (LSTM)                  (None, 55)                12540     \n",
            "_________________________________________________________________\n",
            "dense (Dense)                (None, 1)                 56        \n",
            "=================================================================\n",
            "Total params: 12,596\n",
            "Trainable params: 12,596\n",
            "Non-trainable params: 0\n",
            "_________________________________________________________________\n",
            "Training...\n",
            "Epoch 1/5\n",
            "10/10 [==============================] - 0s 41ms/step - loss: 0.7611 - val_loss: 0.2866\n",
            "Epoch 2/5\n",
            "10/10 [==============================] - 0s 8ms/step - loss: 0.3033 - val_loss: 0.1396\n",
            "Epoch 3/5\n",
            "10/10 [==============================] - 0s 8ms/step - loss: 0.2014 - val_loss: 0.0984\n",
            "Epoch 4/5\n",
            "10/10 [==============================] - 0s 9ms/step - loss: 0.1616 - val_loss: 0.0821\n",
            "Epoch 5/5\n",
            "10/10 [==============================] - 0s 8ms/step - loss: 0.1418 - val_loss: 0.0755\n",
            "Predicting...\n",
            "5/5 [==============================] - 0s 3ms/step\n",
            "Reshaping predicted\n"
          ],
          "name": "stdout"
        },
        {
          "output_type": "display_data",
          "data": {
            "image/png": "[encoded data removed]",
            "text/plain": [
              "<Figure size 1440x576 with 1 Axes>"
            ]
          },
          "metadata": {
            "tags": [],
            "needs_background": "light"
          }
        },
        {
          "output_type": "stream",
          "text": [
            "Training duration:4.9800026416778564\n"
          ],
          "name": "stdout"
        }
      ]
    },
    {
      "cell_type": "code",
      "metadata": {
        "colab": {
          "base_uri": "https://localhost:8080/"
        },
        "id": "7d3O8CaqDdgj",
        "outputId": "3993da5c-38e7-41e4-d58b-0a2e857702c9"
      },
      "source": [
        "#anomaly threshold of 10 chosen based on empirical analyses\n",
        "start_time = 0\n",
        "threshold = 10\n",
        "for i in range(0, len(predicted)-1):\n",
        "    if ((y_test[i] - predicted[i]) ** 2) > threshold:\n",
        "        print(\"Anomaly at time\", start_time+i, \"RMSE value:\", (y_test[i] - predicted[i]) ** 2)\n",
        "    i = i+1"
      ],
      "execution_count": 9,
      "outputs": [
        {
          "output_type": "stream",
          "text": [
            "Anomaly at time 132 RMSE value: 14.31677434857132\n",
            "Anomaly at time 133 RMSE value: 23.150558291793477\n",
            "Anomaly at time 134 RMSE value: 11.590884543631022\n"
          ],
          "name": "stdout"
        }
      ]
    },
    {
      "cell_type": "code",
      "metadata": {
        "id": "WvZcD3x_iHQR"
      },
      "source": [
        ""
      ],
      "execution_count": 9,
      "outputs": []
    }
  ]
}