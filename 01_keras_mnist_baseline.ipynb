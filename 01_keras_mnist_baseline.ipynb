{
  "nbformat": 4,
  "nbformat_minor": 0,
  "metadata": {
    "colab": {
      "name": "01-keras-mnist-baseline.ipynb",
      "provenance": [],
      "collapsed_sections": []
    },
    "kernelspec": {
      "display_name": "Python 3",
      "language": "python",
      "name": "python3"
    },
    "language_info": {
      "codemirror_mode": {
        "name": "ipython",
        "version": 3
      },
      "file_extension": ".py",
      "mimetype": "text/x-python",
      "name": "python",
      "nbconvert_exporter": "python",
      "pygments_lexer": "ipython3",
      "version": "3.8.3"
    },
    "accelerator": "GPU"
  },
  "cells": [
    {
      "cell_type": "code",
      "metadata": {
        "colab_type": "code",
        "id": "opdFPDUIUwFr",
        "colab": {
          "base_uri": "https://localhost:8080/",
          "height": 35
        },
        "outputId": "b7895d4a-9777-4baa-d202-27e8443482fb"
      },
      "source": [
        "# TensorFlow and tf.keras\n",
        "import tensorflow as tf\n",
        "import numpy as np\n",
        "from tensorflow import keras\n",
        "\n",
        "#tf version should be 2.2 or higher\n",
        "tf.__version__"
      ],
      "execution_count": 1,
      "outputs": [
        {
          "output_type": "execute_result",
          "data": {
            "application/vnd.google.colaboratory.intrinsic+json": {
              "type": "string"
            },
            "text/plain": [
              "'2.3.0'"
            ]
          },
          "metadata": {
            "tags": []
          },
          "execution_count": 1
        }
      ]
    },
    {
      "cell_type": "code",
      "metadata": {
        "id": "CBnTiMYRUP-T",
        "colab_type": "code",
        "colab": {
          "base_uri": "https://localhost:8080/",
          "height": 52
        },
        "outputId": "2a5dea63-411c-43d8-860f-25bdfb2dc0fc"
      },
      "source": [
        "#get data\n",
        "(train_images, train_labels), (test_images, test_labels) = \\\n",
        "      keras.datasets.mnist.load_data()"
      ],
      "execution_count": 2,
      "outputs": [
        {
          "output_type": "stream",
          "text": [
            "Downloading data from https://storage.googleapis.com/tensorflow/tf-keras-datasets/mnist.npz\n",
            "11493376/11490434 [==============================] - 0s 0us/step\n"
          ],
          "name": "stdout"
        }
      ]
    },
    {
      "cell_type": "code",
      "metadata": {
        "id": "PiNYxZ-LUP-V",
        "colab_type": "code",
        "colab": {}
      },
      "source": [
        "#scale model\n",
        "train_images = train_images / 255.0\n",
        "test_images = test_images / 255.0"
      ],
      "execution_count": 3,
      "outputs": []
    },
    {
      "cell_type": "code",
      "metadata": {
        "id": "lJEGZf8wUP-X",
        "colab_type": "code",
        "colab": {}
      },
      "source": [
        "#setup model\n",
        "model = keras.Sequential([\n",
        "    keras.layers.Reshape(input_shape=(28*28,), target_shape=(28, 28, 1)),\n",
        "    #keras.layers.Flatten(input_shape=(28, 28, 1)),\n",
        "    keras.layers.Conv2D(12, kernel_size=3, use_bias= False, padding='same',activation=tf.nn.relu, input_shape=(28,28,1)),\n",
        "    keras.layers.BatchNormalization(center=True, scale=False),\n",
        "    keras.layers.Conv2D(24, kernel_size=5, use_bias= False, padding='same', strides=2, activation=tf.nn.relu),\n",
        "    keras.layers.BatchNormalization(center=True, scale=False),\n",
        "    keras.layers.Conv2D(36, kernel_size=5, use_bias= False, padding='same', strides=2, activation=tf.nn.relu),\n",
        "    keras.layers.BatchNormalization(center=True, scale=False),\n",
        "    keras.layers.Flatten(),\n",
        "    keras.layers.Dense(256, activation = tf.nn.relu),\n",
        "    keras.layers.BatchNormalization(center=True, scale=False),\n",
        "    keras.layers.Dropout(0.3),\n",
        "    keras.layers.Dense(10, activation = tf.nn.softmax)\n",
        "])"
      ],
      "execution_count": 4,
      "outputs": []
    },
    {
      "cell_type": "code",
      "metadata": {
        "id": "f6gvr9CbUP-Y",
        "colab_type": "code",
        "colab": {}
      },
      "source": [
        "#compile model\n",
        "model.compile(optimizer='adam',\n",
        "          loss='sparse_categorical_crossentropy',\n",
        "          metrics=['accuracy'])"
      ],
      "execution_count": 5,
      "outputs": []
    },
    {
      "cell_type": "code",
      "metadata": {
        "id": "Ct63x8PoUP-a",
        "colab_type": "code",
        "colab": {
          "base_uri": "https://localhost:8080/",
          "height": 442
        },
        "outputId": "7211da6b-1a92-4a19-f5a0-561db780c468"
      },
      "source": [
        "#train model\n",
        "model.fit(train_images, train_labels, epochs=10)"
      ],
      "execution_count": 6,
      "outputs": [
        {
          "output_type": "stream",
          "text": [
            "Epoch 1/10\n",
            "WARNING:tensorflow:Model was constructed with shape (None, 784) for input Tensor(\"reshape_input:0\", shape=(None, 784), dtype=float32), but it was called on an input with incompatible shape (32, 28, 28).\n",
            "WARNING:tensorflow:Model was constructed with shape (None, 784) for input Tensor(\"reshape_input:0\", shape=(None, 784), dtype=float32), but it was called on an input with incompatible shape (32, 28, 28).\n",
            "1875/1875 [==============================] - 5s 3ms/step - loss: 0.1277 - accuracy: 0.9607\n",
            "Epoch 2/10\n",
            "1875/1875 [==============================] - 5s 3ms/step - loss: 0.0528 - accuracy: 0.9833\n",
            "Epoch 3/10\n",
            "1875/1875 [==============================] - 5s 3ms/step - loss: 0.0401 - accuracy: 0.9870\n",
            "Epoch 4/10\n",
            "1875/1875 [==============================] - 6s 3ms/step - loss: 0.0344 - accuracy: 0.9891\n",
            "Epoch 5/10\n",
            "1875/1875 [==============================] - 5s 3ms/step - loss: 0.0281 - accuracy: 0.9911\n",
            "Epoch 6/10\n",
            "1875/1875 [==============================] - 5s 3ms/step - loss: 0.0230 - accuracy: 0.9931\n",
            "Epoch 7/10\n",
            "1875/1875 [==============================] - 5s 3ms/step - loss: 0.0199 - accuracy: 0.9934\n",
            "Epoch 8/10\n",
            "1875/1875 [==============================] - 5s 3ms/step - loss: 0.0182 - accuracy: 0.9944\n",
            "Epoch 9/10\n",
            "1875/1875 [==============================] - 5s 3ms/step - loss: 0.0139 - accuracy: 0.9958\n",
            "Epoch 10/10\n",
            "1875/1875 [==============================] - 5s 3ms/step - loss: 0.0139 - accuracy: 0.9957\n"
          ],
          "name": "stdout"
        },
        {
          "output_type": "execute_result",
          "data": {
            "text/plain": [
              "<tensorflow.python.keras.callbacks.History at 0x7f79201eed68>"
            ]
          },
          "metadata": {
            "tags": []
          },
          "execution_count": 6
        }
      ]
    },
    {
      "cell_type": "code",
      "metadata": {
        "id": "m3Q9fJFxUP-c",
        "colab_type": "code",
        "colab": {
          "base_uri": "https://localhost:8080/",
          "height": 107
        },
        "outputId": "b58ae1ba-8244-4c56-c0d4-602e5035b6f0"
      },
      "source": [
        "#evaluate\n",
        "test_loss, test_acc = model.evaluate(test_images,  test_labels)\n",
        "print('\\nTest accuracy:', test_acc*100)"
      ],
      "execution_count": 7,
      "outputs": [
        {
          "output_type": "stream",
          "text": [
            "WARNING:tensorflow:Model was constructed with shape (None, 784) for input Tensor(\"reshape_input:0\", shape=(None, 784), dtype=float32), but it was called on an input with incompatible shape (None, 28, 28).\n",
            "313/313 [==============================] - 1s 2ms/step - loss: 0.0237 - accuracy: 0.9934\n",
            "\n",
            "Test accuracy: 99.3399977684021\n"
          ],
          "name": "stdout"
        }
      ]
    },
    {
      "cell_type": "code",
      "metadata": {
        "id": "frcrd3ogUP-e",
        "colab_type": "code",
        "colab": {
          "base_uri": "https://localhost:8080/",
          "height": 55
        },
        "outputId": "218df7de-59e1-43f9-99f4-20bce2e6e1f3"
      },
      "source": [
        "# Predict on the first 5 test images.\n",
        "predictions = model.predict(test_images[:5])"
      ],
      "execution_count": 8,
      "outputs": [
        {
          "output_type": "stream",
          "text": [
            "WARNING:tensorflow:Model was constructed with shape (None, 784) for input Tensor(\"reshape_input:0\", shape=(None, 784), dtype=float32), but it was called on an input with incompatible shape (None, 28, 28).\n"
          ],
          "name": "stdout"
        }
      ]
    },
    {
      "cell_type": "code",
      "metadata": {
        "id": "U4isZ_dUUP-g",
        "colab_type": "code",
        "colab": {
          "base_uri": "https://localhost:8080/",
          "height": 281
        },
        "outputId": "d2b28371-8ef6-42ff-e14a-32b1c30a3fe3"
      },
      "source": [
        "#Raw predictions\n",
        "predictions"
      ],
      "execution_count": 9,
      "outputs": [
        {
          "output_type": "execute_result",
          "data": {
            "text/plain": [
              "array([[1.63375521e-10, 1.17461120e-07, 3.43269932e-07, 3.51638096e-06,\n",
              "        2.78625816e-08, 5.68512348e-09, 4.73269868e-09, 9.99995828e-01,\n",
              "        7.77229892e-10, 2.73084964e-07],\n",
              "       [1.34298705e-09, 1.56997704e-08, 1.00000000e+00, 2.29093068e-12,\n",
              "        2.11234871e-12, 1.61180089e-15, 5.12841813e-09, 2.39480094e-12,\n",
              "        4.46578191e-12, 1.07577109e-12],\n",
              "       [1.30047029e-10, 9.99999523e-01, 4.90917387e-08, 2.55595083e-08,\n",
              "        1.18373835e-08, 7.02403682e-08, 2.92387980e-08, 2.85336455e-07,\n",
              "        5.81371751e-09, 8.51857251e-09],\n",
              "       [1.00000000e+00, 4.99377896e-14, 1.21952823e-10, 3.52696605e-13,\n",
              "        1.84105682e-12, 5.27189473e-11, 2.30175790e-08, 1.28798144e-12,\n",
              "        1.70595815e-10, 2.01740673e-11],\n",
              "       [1.51371538e-08, 7.55257801e-10, 4.60285543e-09, 5.41609188e-11,\n",
              "        9.99993801e-01, 1.32811692e-10, 3.62419854e-08, 1.77802910e-08,\n",
              "        1.47823220e-09, 6.22535663e-06]], dtype=float32)"
            ]
          },
          "metadata": {
            "tags": []
          },
          "execution_count": 9
        }
      ]
    },
    {
      "cell_type": "code",
      "metadata": {
        "id": "rFIfVFN9UP-h",
        "colab_type": "code",
        "colab": {
          "base_uri": "https://localhost:8080/",
          "height": 35
        },
        "outputId": "f0db661a-5372-4a41-b3aa-482ed5251ab9"
      },
      "source": [
        "# Print our model's predictions\n",
        "print(np.argmax(predictions, axis=1))"
      ],
      "execution_count": 10,
      "outputs": [
        {
          "output_type": "stream",
          "text": [
            "[7 2 1 0 4]\n"
          ],
          "name": "stdout"
        }
      ]
    },
    {
      "cell_type": "code",
      "metadata": {
        "id": "0ogSx7dMUP-j",
        "colab_type": "code",
        "colab": {
          "base_uri": "https://localhost:8080/",
          "height": 35
        },
        "outputId": "0fe446cb-f5df-47aa-e99c-81d1897f1daa"
      },
      "source": [
        "# Check our predictions against the ground truths\n",
        "print(test_labels[:5]) # [7, 2, 1, 0, 4]"
      ],
      "execution_count": 11,
      "outputs": [
        {
          "output_type": "stream",
          "text": [
            "[7 2 1 0 4]\n"
          ],
          "name": "stdout"
        }
      ]
    },
    {
      "cell_type": "code",
      "metadata": {
        "id": "WHmD70EUexvj",
        "colab_type": "code",
        "colab": {}
      },
      "source": [
        ""
      ],
      "execution_count": 11,
      "outputs": []
    }
  ]
}